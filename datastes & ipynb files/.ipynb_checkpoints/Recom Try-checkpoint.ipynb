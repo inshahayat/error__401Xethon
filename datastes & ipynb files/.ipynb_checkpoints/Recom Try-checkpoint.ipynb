{
 "cells": [
  {
   "cell_type": "code",
   "execution_count": 3,
   "id": "79224a57",
   "metadata": {},
   "outputs": [],
   "source": [
    "import pandas as pd\n",
    "import numpy as np\n",
    "from scipy.sparse import csr_matrix\n",
    "from sklearn.neighbors import NearestNeighbors\n"
   ]
  },
  {
   "cell_type": "code",
   "execution_count": 4,
   "id": "294b2d2b",
   "metadata": {},
   "outputs": [],
   "source": [
    "products = pd.read_csv(\"products.csv\")\n",
    "purchase = pd.read_csv(\"Purchase_His.csv\")"
   ]
  },
  {
   "cell_type": "code",
   "execution_count": 6,
   "id": "4a875b8d",
   "metadata": {},
   "outputs": [],
   "source": [
    "final_dataset = purchase.pivot(index='StockCode',columns='CustomerID',values='Purchase')"
   ]
  },
  {
   "cell_type": "code",
   "execution_count": 7,
   "id": "35c397e1",
   "metadata": {},
   "outputs": [],
   "source": [
    "final_dataset.fillna(0,inplace=True)"
   ]
  },
  {
   "cell_type": "code",
   "execution_count": 8,
   "id": "79cbf5ca",
   "metadata": {},
   "outputs": [],
   "source": [
    "no_user_purchased = purchase.groupby('StockCode')['Purchase'].agg('count')\n",
    "no_products_purchased = purchase.groupby('CustomerID')['Purchase'].agg('count')"
   ]
  },
  {
   "cell_type": "code",
   "execution_count": 9,
   "id": "32e86332",
   "metadata": {},
   "outputs": [],
   "source": [
    "final_dataset = final_dataset.loc[no_user_purchased[no_user_purchased > 10].index,:]"
   ]
  },
  {
   "cell_type": "code",
   "execution_count": 11,
   "id": "cf587f0f",
   "metadata": {},
   "outputs": [],
   "source": [
    "final_dataset=final_dataset.loc[:,no_products_purchased[no_products_purchased > 50].index]"
   ]
  },
  {
   "cell_type": "code",
   "execution_count": 12,
   "id": "aac86617",
   "metadata": {},
   "outputs": [],
   "source": [
    "csr_data = csr_matrix(final_dataset.values)\n",
    "final_dataset.reset_index(inplace=True)"
   ]
  },
  {
   "cell_type": "code",
   "execution_count": 13,
   "id": "7136ac9f",
   "metadata": {},
   "outputs": [
    {
     "data": {
      "text/plain": [
       "NearestNeighbors(algorithm='brute', metric='cosine', n_jobs=-1, n_neighbors=20)"
      ]
     },
     "execution_count": 13,
     "metadata": {},
     "output_type": "execute_result"
    }
   ],
   "source": [
    "knn = NearestNeighbors(metric='cosine', algorithm='brute', n_neighbors=20, n_jobs=-1)\n",
    "knn.fit(csr_data)"
   ]
  },
  {
   "cell_type": "code",
   "execution_count": 14,
   "id": "11ba3c98",
   "metadata": {},
   "outputs": [],
   "source": [
    "def get_product_recommendation(product_name):\n",
    "    n_products_to_reccomend = 5\n",
    "    product_list = products[products['Description'].str.contains(product_name)]  \n",
    "    if len(product_list):        \n",
    "        product_idx= product_list.iloc[0]['StockCode']\n",
    "        product_idx = final_dataset[final_dataset['StockCode'] == product_idx].index[0]\n",
    "        distances , indices = knn.kneighbors(csr_data[product_idx],n_neighbors=n_products_to_reccomend+1)    \n",
    "        rec_product_indices = sorted(list(zip(indices.squeeze().tolist(),distances.squeeze().tolist())),key=lambda x: x[1])[:0:-1]\n",
    "        recommend_frame = []\n",
    "        for val in rec_product_indices:\n",
    "            product_idx = final_dataset.iloc[val[0]]['StockCode']\n",
    "            idx = products[products['StockCode'] == product_idx].index\n",
    "            recommend_frame.append({'Description':products.iloc[idx]['Description'].values[0],'StockCode':products.iloc[idx]['StockCode'].values[0],'Distance':val[1]})\n",
    "        df = pd.DataFrame(recommend_frame,index=range(1,n_products_to_reccomend+1))\n",
    "        return df\n",
    "    else:\n",
    "        return \"No Products found. Please check your input\""
   ]
  },
  {
   "cell_type": "code",
   "execution_count": 15,
   "id": "7e3527cd",
   "metadata": {},
   "outputs": [
    {
     "data": {
      "text/html": [
       "<div>\n",
       "<style scoped>\n",
       "    .dataframe tbody tr th:only-of-type {\n",
       "        vertical-align: middle;\n",
       "    }\n",
       "\n",
       "    .dataframe tbody tr th {\n",
       "        vertical-align: top;\n",
       "    }\n",
       "\n",
       "    .dataframe thead th {\n",
       "        text-align: right;\n",
       "    }\n",
       "</style>\n",
       "<table border=\"1\" class=\"dataframe\">\n",
       "  <thead>\n",
       "    <tr style=\"text-align: right;\">\n",
       "      <th></th>\n",
       "      <th>Description</th>\n",
       "      <th>StockCode</th>\n",
       "      <th>Distance</th>\n",
       "    </tr>\n",
       "  </thead>\n",
       "  <tbody>\n",
       "    <tr>\n",
       "      <th>1</th>\n",
       "      <td>KNITTED UNION FLAG HOT WATER BOTTLE</td>\n",
       "      <td>84029G</td>\n",
       "      <td>0.664128</td>\n",
       "    </tr>\n",
       "    <tr>\n",
       "      <th>2</th>\n",
       "      <td>CHOCOLATE HOT WATER BOTTLE</td>\n",
       "      <td>22112</td>\n",
       "      <td>0.654891</td>\n",
       "    </tr>\n",
       "    <tr>\n",
       "      <th>3</th>\n",
       "      <td>SCOTTIE DOG HOT WATER BOTTLE</td>\n",
       "      <td>22111</td>\n",
       "      <td>0.646132</td>\n",
       "    </tr>\n",
       "    <tr>\n",
       "      <th>4</th>\n",
       "      <td>RETROSPOT HEART HOT WATER BOTTLE</td>\n",
       "      <td>21485</td>\n",
       "      <td>0.645688</td>\n",
       "    </tr>\n",
       "    <tr>\n",
       "      <th>5</th>\n",
       "      <td>WHITE SKULL HOT WATER BOTTLE</td>\n",
       "      <td>21479</td>\n",
       "      <td>0.620196</td>\n",
       "    </tr>\n",
       "  </tbody>\n",
       "</table>\n",
       "</div>"
      ],
      "text/plain": [
       "                           Description StockCode  Distance\n",
       "1  KNITTED UNION FLAG HOT WATER BOTTLE    84029G  0.664128\n",
       "2           CHOCOLATE HOT WATER BOTTLE     22112  0.654891\n",
       "3         SCOTTIE DOG HOT WATER BOTTLE     22111  0.646132\n",
       "4     RETROSPOT HEART HOT WATER BOTTLE     21485  0.645688\n",
       "5        WHITE SKULL HOT WATER BOTTLE      21479  0.620196"
      ]
     },
     "execution_count": 15,
     "metadata": {},
     "output_type": "execute_result"
    }
   ],
   "source": [
    "get_product_recommendation('RED WOOLLY HOTTIE WHITE HEART')"
   ]
  },
  {
   "cell_type": "code",
   "execution_count": 16,
   "id": "d7e03d63",
   "metadata": {},
   "outputs": [
    {
     "data": {
      "text/html": [
       "<div>\n",
       "<style scoped>\n",
       "    .dataframe tbody tr th:only-of-type {\n",
       "        vertical-align: middle;\n",
       "    }\n",
       "\n",
       "    .dataframe tbody tr th {\n",
       "        vertical-align: top;\n",
       "    }\n",
       "\n",
       "    .dataframe thead th {\n",
       "        text-align: right;\n",
       "    }\n",
       "</style>\n",
       "<table border=\"1\" class=\"dataframe\">\n",
       "  <thead>\n",
       "    <tr style=\"text-align: right;\">\n",
       "      <th></th>\n",
       "      <th>Description</th>\n",
       "      <th>StockCode</th>\n",
       "      <th>Distance</th>\n",
       "    </tr>\n",
       "  </thead>\n",
       "  <tbody>\n",
       "    <tr>\n",
       "      <th>1</th>\n",
       "      <td>RABBIT NIGHT LIGHT</td>\n",
       "      <td>23084</td>\n",
       "      <td>0.790690</td>\n",
       "    </tr>\n",
       "    <tr>\n",
       "      <th>2</th>\n",
       "      <td>VINTAGE JINGLE BELLS WREATH</td>\n",
       "      <td>23492</td>\n",
       "      <td>0.785896</td>\n",
       "    </tr>\n",
       "    <tr>\n",
       "      <th>3</th>\n",
       "      <td>HEART OF WICKER SMALL</td>\n",
       "      <td>22469</td>\n",
       "      <td>0.761799</td>\n",
       "    </tr>\n",
       "    <tr>\n",
       "      <th>4</th>\n",
       "      <td>BELL HEART DECORATION</td>\n",
       "      <td>23103</td>\n",
       "      <td>0.735304</td>\n",
       "    </tr>\n",
       "    <tr>\n",
       "      <th>5</th>\n",
       "      <td>VINTAGE JINGLE BELLS HEART</td>\n",
       "      <td>23491</td>\n",
       "      <td>0.727991</td>\n",
       "    </tr>\n",
       "  </tbody>\n",
       "</table>\n",
       "</div>"
      ],
      "text/plain": [
       "                   Description StockCode  Distance\n",
       "1           RABBIT NIGHT LIGHT     23084  0.790690\n",
       "2  VINTAGE JINGLE BELLS WREATH     23492  0.785896\n",
       "3        HEART OF WICKER SMALL     22469  0.761799\n",
       "4        BELL HEART DECORATION     23103  0.735304\n",
       "5   VINTAGE JINGLE BELLS HEART     23491  0.727991"
      ]
     },
     "execution_count": 16,
     "metadata": {},
     "output_type": "execute_result"
    }
   ],
   "source": [
    "get_product_recommendation('GARLAND, VINTAGE BELLS')"
   ]
  },
  {
   "cell_type": "code",
   "execution_count": 17,
   "id": "ff14f4ce",
   "metadata": {},
   "outputs": [
    {
     "data": {
      "text/html": [
       "<div>\n",
       "<style scoped>\n",
       "    .dataframe tbody tr th:only-of-type {\n",
       "        vertical-align: middle;\n",
       "    }\n",
       "\n",
       "    .dataframe tbody tr th {\n",
       "        vertical-align: top;\n",
       "    }\n",
       "\n",
       "    .dataframe thead th {\n",
       "        text-align: right;\n",
       "    }\n",
       "</style>\n",
       "<table border=\"1\" class=\"dataframe\">\n",
       "  <thead>\n",
       "    <tr style=\"text-align: right;\">\n",
       "      <th></th>\n",
       "      <th>Description</th>\n",
       "      <th>StockCode</th>\n",
       "      <th>Distance</th>\n",
       "    </tr>\n",
       "  </thead>\n",
       "  <tbody>\n",
       "    <tr>\n",
       "      <th>1</th>\n",
       "      <td>LARGE PARLOUR PICTURE FRAME</td>\n",
       "      <td>23457</td>\n",
       "      <td>0.855662</td>\n",
       "    </tr>\n",
       "    <tr>\n",
       "      <th>2</th>\n",
       "      <td>SET OF 4 DIAMOND NAPKIN RINGS</td>\n",
       "      <td>84813</td>\n",
       "      <td>0.811018</td>\n",
       "    </tr>\n",
       "    <tr>\n",
       "      <th>3</th>\n",
       "      <td>LOVE GARLAND PAINTED ZINC</td>\n",
       "      <td>22341</td>\n",
       "      <td>0.803040</td>\n",
       "    </tr>\n",
       "    <tr>\n",
       "      <th>4</th>\n",
       "      <td>WALL MIRROR RECTANGLE DIAMANTE PINK</td>\n",
       "      <td>22166</td>\n",
       "      <td>0.776393</td>\n",
       "    </tr>\n",
       "    <tr>\n",
       "      <th>5</th>\n",
       "      <td>TUSCAN VILLA DOVECOTE</td>\n",
       "      <td>23466</td>\n",
       "      <td>0.716527</td>\n",
       "    </tr>\n",
       "  </tbody>\n",
       "</table>\n",
       "</div>"
      ],
      "text/plain": [
       "                           Description StockCode  Distance\n",
       "1          LARGE PARLOUR PICTURE FRAME     23457  0.855662\n",
       "2        SET OF 4 DIAMOND NAPKIN RINGS     84813  0.811018\n",
       "3           LOVE GARLAND PAINTED ZINC      22341  0.803040\n",
       "4  WALL MIRROR RECTANGLE DIAMANTE PINK     22166  0.776393\n",
       "5                TUSCAN VILLA DOVECOTE     23466  0.716527"
      ]
     },
     "execution_count": 17,
     "metadata": {},
     "output_type": "execute_result"
    }
   ],
   "source": [
    "get_product_recommendation('TUSCAN VILLA BIRD TABLE')"
   ]
  }
 ],
 "metadata": {
  "kernelspec": {
   "display_name": "Python 3",
   "language": "python",
   "name": "python3"
  },
  "language_info": {
   "codemirror_mode": {
    "name": "ipython",
    "version": 3
   },
   "file_extension": ".py",
   "mimetype": "text/x-python",
   "name": "python",
   "nbconvert_exporter": "python",
   "pygments_lexer": "ipython3",
   "version": "3.8.8"
  }
 },
 "nbformat": 4,
 "nbformat_minor": 5
}
