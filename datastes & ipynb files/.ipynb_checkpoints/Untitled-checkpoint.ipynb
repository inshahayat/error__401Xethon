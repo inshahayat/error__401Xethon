{
 "cells": [
  {
   "cell_type": "code",
   "execution_count": 1,
   "id": "7ed14147",
   "metadata": {},
   "outputs": [],
   "source": [
    "import mysql.connector"
   ]
  },
  {
   "cell_type": "code",
   "execution_count": 43,
   "id": "4d840d90",
   "metadata": {},
   "outputs": [],
   "source": [
    "import pickle\n",
    "from sklearn.feature_extraction.text import CountVectorizer\n",
    "import numpy as np"
   ]
  },
  {
   "cell_type": "code",
   "execution_count": 46,
   "id": "e4208c87",
   "metadata": {},
   "outputs": [],
   "source": [
    "vec = pickle.load(open(\"df1.pkl\", 'rb'))\n",
    "loaded_model = pickle.load(open(\"tip.sav\", 'rb'))"
   ]
  },
  {
   "cell_type": "code",
   "execution_count": 3,
   "id": "53f142a1",
   "metadata": {},
   "outputs": [],
   "source": [
    "mydb = mysql.connector.connect(\n",
    "  host=\"localhost\",\n",
    "  user=\"root\",\n",
    "  password=\"root\"\n",
    ")"
   ]
  },
  {
   "cell_type": "code",
   "execution_count": 4,
   "id": "567e80b6",
   "metadata": {},
   "outputs": [],
   "source": [
    "mycursor = mydb.cursor()\n",
    "\n",
    "mycursor.execute(\"CREATE DATABASE xenathon\")"
   ]
  },
  {
   "cell_type": "code",
   "execution_count": 5,
   "id": "769dbe23",
   "metadata": {},
   "outputs": [],
   "source": [
    "mydb = mysql.connector.connect(\n",
    "  host=\"localhost\",\n",
    "  user=\"root\",\n",
    "  password=\"root\",\n",
    "  database=\"xenathon\"\n",
    ")\n",
    "\n",
    "mycursor = mydb.cursor()"
   ]
  },
  {
   "cell_type": "code",
   "execution_count": 19,
   "id": "69afee41",
   "metadata": {},
   "outputs": [],
   "source": [
    "mycursor.execute(\"DROP TABLE customers\")"
   ]
  },
  {
   "cell_type": "code",
   "execution_count": 20,
   "id": "47b208db",
   "metadata": {},
   "outputs": [],
   "source": [
    "mycursor.execute(\"CREATE TABLE customers (prodid VARCHAR(255),prodname VARCHAR(1000) ,mailid VARCHAR(255),userid INT,review VARCHAR(10000))\")"
   ]
  },
  {
   "cell_type": "code",
   "execution_count": 21,
   "id": "f80dace7",
   "metadata": {},
   "outputs": [
    {
     "name": "stdout",
     "output_type": "stream",
     "text": [
      "('customers',)\n"
     ]
    }
   ],
   "source": [
    "mycursor = mydb.cursor()\n",
    "\n",
    "mycursor.execute(\"SHOW TABLES\")\n",
    "\n",
    "for x in mycursor:\n",
    "    print(x)"
   ]
  },
  {
   "cell_type": "code",
   "execution_count": 14,
   "id": "33c5f657",
   "metadata": {},
   "outputs": [],
   "source": [
    "import pandas as pd"
   ]
  },
  {
   "cell_type": "code",
   "execution_count": 15,
   "id": "38eded9e",
   "metadata": {},
   "outputs": [],
   "source": [
    "df=pd.read_csv('sql_dt.csv')"
   ]
  },
  {
   "cell_type": "code",
   "execution_count": 23,
   "id": "0fb60332",
   "metadata": {},
   "outputs": [],
   "source": [
    "sql = \"INSERT INTO customers (prodid, prodname,mailid,userid,review) VALUES (%s, %s, %s, %d, %s)\""
   ]
  },
  {
   "cell_type": "code",
   "execution_count": 62,
   "id": "bc24a69c",
   "metadata": {},
   "outputs": [
    {
     "data": {
      "text/html": [
       "<div>\n",
       "<style scoped>\n",
       "    .dataframe tbody tr th:only-of-type {\n",
       "        vertical-align: middle;\n",
       "    }\n",
       "\n",
       "    .dataframe tbody tr th {\n",
       "        vertical-align: top;\n",
       "    }\n",
       "\n",
       "    .dataframe thead th {\n",
       "        text-align: right;\n",
       "    }\n",
       "</style>\n",
       "<table border=\"1\" class=\"dataframe\">\n",
       "  <thead>\n",
       "    <tr style=\"text-align: right;\">\n",
       "      <th></th>\n",
       "      <th>StockCode</th>\n",
       "      <th>Description</th>\n",
       "      <th>mailid</th>\n",
       "      <th>CustomerID</th>\n",
       "      <th>reviews</th>\n",
       "    </tr>\n",
       "  </thead>\n",
       "  <tbody>\n",
       "    <tr>\n",
       "      <th>406824</th>\n",
       "      <td>22613</td>\n",
       "      <td>PACK OF 20 SPACEBOY NAPKINS</td>\n",
       "      <td>rohan10.rohan10@gmail.com</td>\n",
       "      <td>12680</td>\n",
       "      <td>I thought the book was not very good. And that...</td>\n",
       "    </tr>\n",
       "    <tr>\n",
       "      <th>406825</th>\n",
       "      <td>22899</td>\n",
       "      <td>CHILDREN'S APRON DOLLY GIRL</td>\n",
       "      <td>rohan10.rohan10@gmail.com</td>\n",
       "      <td>12680</td>\n",
       "      <td>A good overview of technique possibilities</td>\n",
       "    </tr>\n",
       "    <tr>\n",
       "      <th>406826</th>\n",
       "      <td>23254</td>\n",
       "      <td>CHILDRENS CUTLERY DOLLY GIRL</td>\n",
       "      <td>rohan10.rohan10@gmail.com</td>\n",
       "      <td>12680</td>\n",
       "      <td>I enjoyed this book very much. You will too. B...</td>\n",
       "    </tr>\n",
       "    <tr>\n",
       "      <th>406827</th>\n",
       "      <td>23255</td>\n",
       "      <td>CHILDRENS CUTLERY CIRCUS PARADE</td>\n",
       "      <td>rohan10.rohan10@gmail.com</td>\n",
       "      <td>12680</td>\n",
       "      <td>white lion's lady</td>\n",
       "    </tr>\n",
       "    <tr>\n",
       "      <th>406828</th>\n",
       "      <td>22138</td>\n",
       "      <td>BAKING SET 9 PIECE RETROSPOT</td>\n",
       "      <td>rohan10.rohan10@gmail.com</td>\n",
       "      <td>12680</td>\n",
       "      <td>Whats to say? I loved this show. It was ver go...</td>\n",
       "    </tr>\n",
       "  </tbody>\n",
       "</table>\n",
       "</div>"
      ],
      "text/plain": [
       "       StockCode                      Description                     mailid  \\\n",
       "406824     22613      PACK OF 20 SPACEBOY NAPKINS  rohan10.rohan10@gmail.com   \n",
       "406825     22899     CHILDREN'S APRON DOLLY GIRL   rohan10.rohan10@gmail.com   \n",
       "406826     23254    CHILDRENS CUTLERY DOLLY GIRL   rohan10.rohan10@gmail.com   \n",
       "406827     23255  CHILDRENS CUTLERY CIRCUS PARADE  rohan10.rohan10@gmail.com   \n",
       "406828     22138    BAKING SET 9 PIECE RETROSPOT   rohan10.rohan10@gmail.com   \n",
       "\n",
       "        CustomerID                                            reviews  \n",
       "406824       12680  I thought the book was not very good. And that...  \n",
       "406825       12680         A good overview of technique possibilities  \n",
       "406826       12680  I enjoyed this book very much. You will too. B...  \n",
       "406827       12680                                  white lion's lady  \n",
       "406828       12680  Whats to say? I loved this show. It was ver go...  "
      ]
     },
     "execution_count": 62,
     "metadata": {},
     "output_type": "execute_result"
    }
   ],
   "source": [
    "df.tail()"
   ]
  },
  {
   "cell_type": "code",
   "execution_count": 34,
   "id": "eae86748",
   "metadata": {},
   "outputs": [],
   "source": [
    "df.dropna(inplace=True)"
   ]
  },
  {
   "cell_type": "code",
   "execution_count": 35,
   "id": "96954689",
   "metadata": {},
   "outputs": [],
   "source": [
    "for ind in df.index:\n",
    "    sql = \"INSERT INTO customers (prodid, prodname,mailid,userid,review) VALUES (%s, %s, %s, %s, %s)\"\n",
    "    val=(df['StockCode'][ind], df['Description'][ind],df['mailid'][ind], int(df['CustomerID'][ind]),df['reviews'][ind])\n",
    "    mycursor.execute(sql, val)\n",
    "mydb.commit()"
   ]
  },
  {
   "cell_type": "code",
   "execution_count": 88,
   "id": "b3fbcdb7",
   "metadata": {},
   "outputs": [
    {
     "name": "stdout",
     "output_type": "stream",
     "text": [
      "54.71349353049908\n"
     ]
    }
   ],
   "source": [
    "mycursor.execute(\"SELECT userid,review,mailid,prodname FROM customers WHERE prodid='71053'\")\n",
    "\n",
    "myresult = mycursor.fetchall()\n",
    "\n",
    "l=[]\n",
    "for x in myresult:\n",
    "    rv=[x[1]]\n",
    "    rv= vec.transform(rv)\n",
    "    predct=loaded_model.predict(rv)\n",
    "    l.append(predct[0])\n",
    "count=0\n",
    "for i in l:\n",
    "    if(i == 0):\n",
    "        count+=1\n",
    "sz=len(l)\n",
    "pos=((sz-count)/sz)*100\n",
    "print(pos)\n",
    "    "
   ]
  },
  {
   "cell_type": "code",
   "execution_count": 74,
   "id": "7bdc7c1d",
   "metadata": {},
   "outputs": [
    {
     "data": {
      "text/plain": [
       "805907"
      ]
     },
     "execution_count": 74,
     "metadata": {},
     "output_type": "execute_result"
    }
   ],
   "source": [
    "len(l)"
   ]
  },
  {
   "cell_type": "code",
   "execution_count": 42,
   "id": "4fd4c3e0",
   "metadata": {},
   "outputs": [
    {
     "name": "stdout",
     "output_type": "stream",
     "text": [
      "Hi-I haven't actually purchased the soundtrack because there is no track list here... but I was wondering if anybody knew if the soundtrack contained the song that was played during the flashback scene, or even just what it was called. The one I'm looking for was the one that was used when Katie took Epps back in time and showed her what happened to everyone. (by the way... that was the best scene in the film, lol) alright, thanks!\n"
     ]
    }
   ],
   "source": [
    "print(x[1])"
   ]
  },
  {
   "cell_type": "code",
   "execution_count": 47,
   "id": "06843a2c",
   "metadata": {},
   "outputs": [
    {
     "data": {
      "text/plain": [
       "list"
      ]
     },
     "execution_count": 47,
     "metadata": {},
     "output_type": "execute_result"
    }
   ],
   "source": [
    "type(myresult)"
   ]
  },
  {
   "cell_type": "code",
   "execution_count": 54,
   "id": "5ce4b8ba",
   "metadata": {},
   "outputs": [],
   "source": [
    "from wordcloud import WordCloud, STOPWORDS\n",
    "import matplotlib.pyplot as plt"
   ]
  },
  {
   "cell_type": "code",
   "execution_count": 75,
   "id": "7990ab33",
   "metadata": {},
   "outputs": [
    {
     "ename": "KeyboardInterrupt",
     "evalue": "",
     "output_type": "error",
     "traceback": [
      "\u001b[1;31m---------------------------------------------------------------------------\u001b[0m",
      "\u001b[1;31mKeyboardInterrupt\u001b[0m                         Traceback (most recent call last)",
      "\u001b[1;32m<ipython-input-75-b6e455bccacb>\u001b[0m in \u001b[0;36m<module>\u001b[1;34m\u001b[0m\n\u001b[0;32m      6\u001b[0m     \u001b[1;32mfor\u001b[0m \u001b[0mi\u001b[0m \u001b[1;32min\u001b[0m \u001b[0mrange\u001b[0m\u001b[1;33m(\u001b[0m\u001b[0mlen\u001b[0m\u001b[1;33m(\u001b[0m\u001b[0mtokens\u001b[0m\u001b[1;33m)\u001b[0m\u001b[1;33m)\u001b[0m\u001b[1;33m:\u001b[0m\u001b[1;33m\u001b[0m\u001b[1;33m\u001b[0m\u001b[0m\n\u001b[0;32m      7\u001b[0m         \u001b[0mtokens\u001b[0m\u001b[1;33m[\u001b[0m\u001b[0mi\u001b[0m\u001b[1;33m]\u001b[0m \u001b[1;33m=\u001b[0m \u001b[0mtokens\u001b[0m\u001b[1;33m[\u001b[0m\u001b[0mi\u001b[0m\u001b[1;33m]\u001b[0m\u001b[1;33m.\u001b[0m\u001b[0mlower\u001b[0m\u001b[1;33m(\u001b[0m\u001b[1;33m)\u001b[0m\u001b[1;33m\u001b[0m\u001b[1;33m\u001b[0m\u001b[0m\n\u001b[1;32m----> 8\u001b[1;33m     \u001b[0mcomment_words\u001b[0m \u001b[1;33m+=\u001b[0m \u001b[1;34m\" \"\u001b[0m\u001b[1;33m.\u001b[0m\u001b[0mjoin\u001b[0m\u001b[1;33m(\u001b[0m\u001b[0mtokens\u001b[0m\u001b[1;33m)\u001b[0m\u001b[1;33m+\u001b[0m\u001b[1;34m\" \"\u001b[0m\u001b[1;33m\u001b[0m\u001b[1;33m\u001b[0m\u001b[0m\n\u001b[0m\u001b[0;32m      9\u001b[0m \u001b[1;33m\u001b[0m\u001b[0m\n\u001b[0;32m     10\u001b[0m wordcloud = WordCloud(width = 800, height = 800,\n",
      "\u001b[1;31mKeyboardInterrupt\u001b[0m: "
     ]
    }
   ],
   "source": [
    "comment_words = ''\n",
    "stopwords = set(STOPWORDS)\n",
    "for val in myresult:\n",
    "    val = str(val[0])\n",
    "    tokens = val.split()\n",
    "    for i in range(len(tokens)):\n",
    "        tokens[i] = tokens[i].lower()\n",
    "    comment_words += \" \".join(tokens)+\" \"\n",
    "    \n",
    "wordcloud = WordCloud(width = 800, height = 800,\n",
    "                background_color ='white',\n",
    "                stopwords = stopwords,\n",
    "                min_font_size = 10).generate(comment_words)\n",
    " \n",
    "# plot the WordCloud image                      \n",
    "plt.figure(figsize = (8, 8), facecolor = None)\n",
    "plt.imshow(wordcloud)\n",
    "plt.axis(\"off\")\n",
    "plt.tight_layout(pad = 0)\n",
    " \n",
    "plt.show()"
   ]
  },
  {
   "cell_type": "code",
   "execution_count": 76,
   "id": "b1a85437",
   "metadata": {},
   "outputs": [],
   "source": [
    "from scipy.sparse import csr_matrix\n",
    "from sklearn.neighbors import NearestNeighbors"
   ]
  },
  {
   "cell_type": "code",
   "execution_count": 77,
   "id": "fda5d49f",
   "metadata": {},
   "outputs": [],
   "source": [
    "products = pd.read_csv(\"products.csv\")\n",
    "purchase = pd.read_csv(\"Purchase_His.csv\")"
   ]
  },
  {
   "cell_type": "code",
   "execution_count": 78,
   "id": "1f647516",
   "metadata": {},
   "outputs": [
    {
     "data": {
      "text/plain": [
       "NearestNeighbors(algorithm='brute', metric='cosine', n_jobs=-1, n_neighbors=20)"
      ]
     },
     "execution_count": 78,
     "metadata": {},
     "output_type": "execute_result"
    }
   ],
   "source": [
    "final_dataset = purchase.pivot(index='StockCode',columns='CustomerID',values='Purchase')\n",
    "final_dataset.fillna(0,inplace=True)\n",
    "no_user_purchased = purchase.groupby('StockCode')['Purchase'].agg('count')\n",
    "no_products_purchased = purchase.groupby('CustomerID')['Purchase'].agg('count')\n",
    "final_dataset = final_dataset.loc[no_user_purchased[no_user_purchased > 10].index,:]\n",
    "final_dataset=final_dataset.loc[:,no_products_purchased[no_products_purchased > 50].index]\n",
    "csr_data = csr_matrix(final_dataset.values)\n",
    "final_dataset.reset_index(inplace=True)\n",
    "knn = NearestNeighbors(metric='cosine', algorithm='brute', n_neighbors=20, n_jobs=-1)\n",
    "knn.fit(csr_data)"
   ]
  },
  {
   "cell_type": "code",
   "execution_count": 85,
   "id": "b27da9c5",
   "metadata": {},
   "outputs": [],
   "source": [
    "def get_product_recommendation(product_name):\n",
    "    n_products_to_reccomend = 10\n",
    "    product_list = products[products['Description'].str.contains(product_name)]  \n",
    "    if len(product_list):        \n",
    "        product_idx= product_list.iloc[0]['StockCode']\n",
    "        product_idx = final_dataset[final_dataset['StockCode'] == product_idx].index[0]\n",
    "        distances , indices = knn.kneighbors(csr_data[product_idx],n_neighbors=n_products_to_reccomend+1)    \n",
    "        rec_product_indices = sorted(list(zip(indices.squeeze().tolist(),distances.squeeze().tolist())),key=lambda x: x[1])[:0:-1]\n",
    "        recommend_frame = []\n",
    "        for val in rec_product_indices:\n",
    "            product_idx = final_dataset.iloc[val[0]]['StockCode']\n",
    "            idx = products[products['StockCode'] == product_idx].index\n",
    "            recommend_frame.append({'Description':products.iloc[idx]['Description'].values[0],'StockCode':products.iloc[idx]['StockCode'].values[0],'Distance':val[1]})\n",
    "        df = pd.DataFrame(recommend_frame,index=range(1,n_products_to_reccomend+1))\n",
    "        return df\n",
    "    else:\n",
    "        return \"Nothing To Recommend\""
   ]
  },
  {
   "cell_type": "code",
   "execution_count": 89,
   "id": "bb1eb9a7",
   "metadata": {},
   "outputs": [
    {
     "name": "stdout",
     "output_type": "stream",
     "text": [
      "WHITE METAL LANTERN\n"
     ]
    },
    {
     "data": {
      "text/html": [
       "<div>\n",
       "<style scoped>\n",
       "    .dataframe tbody tr th:only-of-type {\n",
       "        vertical-align: middle;\n",
       "    }\n",
       "\n",
       "    .dataframe tbody tr th {\n",
       "        vertical-align: top;\n",
       "    }\n",
       "\n",
       "    .dataframe thead th {\n",
       "        text-align: right;\n",
       "    }\n",
       "</style>\n",
       "<table border=\"1\" class=\"dataframe\">\n",
       "  <thead>\n",
       "    <tr style=\"text-align: right;\">\n",
       "      <th></th>\n",
       "      <th>Description</th>\n",
       "      <th>StockCode</th>\n",
       "      <th>Distance</th>\n",
       "    </tr>\n",
       "  </thead>\n",
       "  <tbody>\n",
       "    <tr>\n",
       "      <th>1</th>\n",
       "      <td>LOVE GARLAND PAINTED ZINC</td>\n",
       "      <td>22341</td>\n",
       "      <td>0.779361</td>\n",
       "    </tr>\n",
       "    <tr>\n",
       "      <th>2</th>\n",
       "      <td>FRENCH CARRIAGE LANTERN</td>\n",
       "      <td>23099</td>\n",
       "      <td>0.768966</td>\n",
       "    </tr>\n",
       "    <tr>\n",
       "      <th>3</th>\n",
       "      <td>RED HANGING HEART T-LIGHT HOLDER</td>\n",
       "      <td>21733</td>\n",
       "      <td>0.762268</td>\n",
       "    </tr>\n",
       "    <tr>\n",
       "      <th>4</th>\n",
       "      <td>TRIANGULAR POUFFE VINTAGE</td>\n",
       "      <td>21628</td>\n",
       "      <td>0.761167</td>\n",
       "    </tr>\n",
       "    <tr>\n",
       "      <th>5</th>\n",
       "      <td>HANGING METAL HEART LANTERN</td>\n",
       "      <td>22464</td>\n",
       "      <td>0.759879</td>\n",
       "    </tr>\n",
       "    <tr>\n",
       "      <th>6</th>\n",
       "      <td>HANGING METAL STAR LANTERN</td>\n",
       "      <td>22465</td>\n",
       "      <td>0.754898</td>\n",
       "    </tr>\n",
       "    <tr>\n",
       "      <th>7</th>\n",
       "      <td>REGENCY CAKESTAND 3 TIER</td>\n",
       "      <td>22423</td>\n",
       "      <td>0.745674</td>\n",
       "    </tr>\n",
       "    <tr>\n",
       "      <th>8</th>\n",
       "      <td>SQUARE FLOOR CUSHION VINTAGE RED</td>\n",
       "      <td>21629</td>\n",
       "      <td>0.735961</td>\n",
       "    </tr>\n",
       "    <tr>\n",
       "      <th>9</th>\n",
       "      <td>WHITE HANGING HEART T-LIGHT HOLDER</td>\n",
       "      <td>85123A</td>\n",
       "      <td>0.724818</td>\n",
       "    </tr>\n",
       "    <tr>\n",
       "      <th>10</th>\n",
       "      <td>LANTERN CREAM GAZEBO</td>\n",
       "      <td>22784</td>\n",
       "      <td>0.678543</td>\n",
       "    </tr>\n",
       "  </tbody>\n",
       "</table>\n",
       "</div>"
      ],
      "text/plain": [
       "                           Description StockCode  Distance\n",
       "1           LOVE GARLAND PAINTED ZINC      22341  0.779361\n",
       "2              FRENCH CARRIAGE LANTERN     23099  0.768966\n",
       "3     RED HANGING HEART T-LIGHT HOLDER     21733  0.762268\n",
       "4           TRIANGULAR POUFFE VINTAGE      21628  0.761167\n",
       "5          HANGING METAL HEART LANTERN     22464  0.759879\n",
       "6           HANGING METAL STAR LANTERN     22465  0.754898\n",
       "7             REGENCY CAKESTAND 3 TIER     22423  0.745674\n",
       "8     SQUARE FLOOR CUSHION VINTAGE RED     21629  0.735961\n",
       "9   WHITE HANGING HEART T-LIGHT HOLDER    85123A  0.724818\n",
       "10               LANTERN CREAM GAZEBO      22784  0.678543"
      ]
     },
     "execution_count": 89,
     "metadata": {},
     "output_type": "execute_result"
    }
   ],
   "source": [
    "#mycursor.execute(\"SELECT userid,review,mailid,prodname FROM customers WHERE prodid='71053'\")\n",
    "\n",
    "#myresult = mycursor.fetchall()\n",
    "data=myresult[1][3]\n",
    "print(data)\n",
    "get_product_recommendation(data)"
   ]
  },
  {
   "cell_type": "code",
   "execution_count": null,
   "id": "98bb535f",
   "metadata": {},
   "outputs": [],
   "source": []
  }
 ],
 "metadata": {
  "kernelspec": {
   "display_name": "Python 3",
   "language": "python",
   "name": "python3"
  },
  "language_info": {
   "codemirror_mode": {
    "name": "ipython",
    "version": 3
   },
   "file_extension": ".py",
   "mimetype": "text/x-python",
   "name": "python",
   "nbconvert_exporter": "python",
   "pygments_lexer": "ipython3",
   "version": "3.8.8"
  }
 },
 "nbformat": 4,
 "nbformat_minor": 5
}
