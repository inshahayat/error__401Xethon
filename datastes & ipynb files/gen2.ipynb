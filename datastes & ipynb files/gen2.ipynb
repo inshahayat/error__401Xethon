{
 "cells": [
  {
   "cell_type": "code",
   "execution_count": 41,
   "id": "b3074e8b",
   "metadata": {},
   "outputs": [],
   "source": [
    "import pandas as pd"
   ]
  },
  {
   "cell_type": "code",
   "execution_count": 42,
   "id": "fb3dfa33",
   "metadata": {},
   "outputs": [],
   "source": [
    "df= pd.read_csv(\"demo.csv\")"
   ]
  },
  {
   "cell_type": "code",
   "execution_count": 43,
   "id": "87224c50",
   "metadata": {},
   "outputs": [
    {
     "data": {
      "text/plain": [
       "(100000, 2)"
      ]
     },
     "execution_count": 43,
     "metadata": {},
     "output_type": "execute_result"
    }
   ],
   "source": [
    "df.shape"
   ]
  },
  {
   "cell_type": "code",
   "execution_count": 44,
   "id": "6c859635",
   "metadata": {},
   "outputs": [
    {
     "name": "stdout",
     "output_type": "stream",
     "text": [
      "<class 'pandas.core.frame.DataFrame'>\n",
      "RangeIndex: 100000 entries, 0 to 99999\n",
      "Data columns (total 2 columns):\n",
      " #   Column     Non-Null Count   Dtype \n",
      "---  ------     --------------   ----- \n",
      " 0   Feedback   100000 non-null  object\n",
      " 1   Sentiment  100000 non-null  object\n",
      "dtypes: object(2)\n",
      "memory usage: 1.5+ MB\n"
     ]
    }
   ],
   "source": [
    "df.info()"
   ]
  },
  {
   "cell_type": "code",
   "execution_count": 45,
   "id": "fdd0d911",
   "metadata": {},
   "outputs": [],
   "source": [
    "import matplotlib.pyplot as plt\n",
    "import numpy as np\n",
    "import matplotlib as mpl"
   ]
  },
  {
   "cell_type": "code",
   "execution_count": 46,
   "id": "fcd1d3af",
   "metadata": {},
   "outputs": [],
   "source": [
    "punc = '''!()-[]{};:'\"\\,<>./?@#$%^&*_~'''\n",
    "\n",
    "def remove_puc(text):\n",
    "    for ele in text:\n",
    "        if ele in punc:\n",
    "            text = text.replace(ele, \"\")\n",
    "    return text"
   ]
  },
  {
   "cell_type": "code",
   "execution_count": 47,
   "id": "5ac8a3c5",
   "metadata": {},
   "outputs": [],
   "source": [
    "df[\"punctuation_removed\"] = df[\"Feedback\"].apply(lambda x: remove_puc(x))"
   ]
  },
  {
   "cell_type": "code",
   "execution_count": 48,
   "id": "9d20de82",
   "metadata": {},
   "outputs": [
    {
     "data": {
      "text/html": [
       "<div>\n",
       "<style scoped>\n",
       "    .dataframe tbody tr th:only-of-type {\n",
       "        vertical-align: middle;\n",
       "    }\n",
       "\n",
       "    .dataframe tbody tr th {\n",
       "        vertical-align: top;\n",
       "    }\n",
       "\n",
       "    .dataframe thead th {\n",
       "        text-align: right;\n",
       "    }\n",
       "</style>\n",
       "<table border=\"1\" class=\"dataframe\">\n",
       "  <thead>\n",
       "    <tr style=\"text-align: right;\">\n",
       "      <th></th>\n",
       "      <th>Feedback</th>\n",
       "      <th>Sentiment</th>\n",
       "      <th>punctuation_removed</th>\n",
       "    </tr>\n",
       "  </thead>\n",
       "  <tbody>\n",
       "    <tr>\n",
       "      <th>0</th>\n",
       "      <td>Of course Oliver Stone pulls out all the stops...</td>\n",
       "      <td>Positive</td>\n",
       "      <td>Of course Oliver Stone pulls out all the stops...</td>\n",
       "    </tr>\n",
       "    <tr>\n",
       "      <th>1</th>\n",
       "      <td>Bills Can Crusher</td>\n",
       "      <td>Positive</td>\n",
       "      <td>Bills Can Crusher</td>\n",
       "    </tr>\n",
       "    <tr>\n",
       "      <th>2</th>\n",
       "      <td>Product received with a chunk broken off of th...</td>\n",
       "      <td>Positive</td>\n",
       "      <td>Product received with a chunk broken off of th...</td>\n",
       "    </tr>\n",
       "    <tr>\n",
       "      <th>3</th>\n",
       "      <td>Don't waste your money buying these jars!!!! T...</td>\n",
       "      <td>Negative</td>\n",
       "      <td>Dont waste your money buying these jars The id...</td>\n",
       "    </tr>\n",
       "    <tr>\n",
       "      <th>4</th>\n",
       "      <td>This Game Rocks! Buy It I Got It Today And I L...</td>\n",
       "      <td>Positive</td>\n",
       "      <td>This Game Rocks Buy It I Got It Today And I Lo...</td>\n",
       "    </tr>\n",
       "  </tbody>\n",
       "</table>\n",
       "</div>"
      ],
      "text/plain": [
       "                                            Feedback Sentiment  \\\n",
       "0  Of course Oliver Stone pulls out all the stops...  Positive   \n",
       "1                                  Bills Can Crusher  Positive   \n",
       "2  Product received with a chunk broken off of th...  Positive   \n",
       "3  Don't waste your money buying these jars!!!! T...  Negative   \n",
       "4  This Game Rocks! Buy It I Got It Today And I L...  Positive   \n",
       "\n",
       "                                 punctuation_removed  \n",
       "0  Of course Oliver Stone pulls out all the stops...  \n",
       "1                                  Bills Can Crusher  \n",
       "2  Product received with a chunk broken off of th...  \n",
       "3  Dont waste your money buying these jars The id...  \n",
       "4  This Game Rocks Buy It I Got It Today And I Lo...  "
      ]
     },
     "execution_count": 48,
     "metadata": {},
     "output_type": "execute_result"
    }
   ],
   "source": [
    "df.head()"
   ]
  },
  {
   "cell_type": "code",
   "execution_count": 49,
   "id": "6bb760f1",
   "metadata": {},
   "outputs": [],
   "source": [
    "import nltk\n",
    "from nltk.corpus import stopwords\n",
    "from nltk.tokenize import word_tokenize"
   ]
  },
  {
   "cell_type": "code",
   "execution_count": 50,
   "id": "27906eef",
   "metadata": {},
   "outputs": [],
   "source": [
    "from nltk.tokenize import sent_tokenize\n",
    "\n",
    "df[\"nltk_token\"] = df[\"punctuation_removed\"].apply(lambda x: word_tokenize(x.lower()))"
   ]
  },
  {
   "cell_type": "code",
   "execution_count": 51,
   "id": "e2b4e889",
   "metadata": {},
   "outputs": [],
   "source": [
    "df[\"StopWords_Removed\"] = df['nltk_token'].apply(lambda x: [item for item in x if item not in stopwords.words('english')])"
   ]
  },
  {
   "cell_type": "code",
   "execution_count": 52,
   "id": "f3d3a744",
   "metadata": {},
   "outputs": [],
   "source": [
    "from sklearn import model_selection, preprocessing, linear_model, naive_bayes, svm\n",
    "from sklearn.feature_extraction.text import TfidfVectorizer, CountVectorizer\n",
    "from sklearn import decomposition, ensemble\n",
    "import xgboost, textblob, string\n",
    "import numpy as np\n",
    "from sklearn.metrics import classification_report\n",
    "import warnings\n",
    "warnings.filterwarnings(\"ignore\")"
   ]
  },
  {
   "cell_type": "code",
   "execution_count": 53,
   "id": "9f0c9e6d",
   "metadata": {},
   "outputs": [],
   "source": [
    "classes = ['Negative', 'Positive']"
   ]
  },
  {
   "cell_type": "code",
   "execution_count": 54,
   "id": "6c7f6f21",
   "metadata": {},
   "outputs": [],
   "source": [
    "train_x, valid_x, train_y, valid_y = model_selection.train_test_split(df['punctuation_removed'], df['Sentiment'])\n",
    "# Data is divided into 75% training and 25% testing by default\n",
    "# label encode the target variable\n",
    "encoder = preprocessing.LabelEncoder()\n",
    "train_y = encoder.fit_transform(train_y)\n",
    "valid_y = encoder.fit_transform(valid_y)"
   ]
  },
  {
   "cell_type": "code",
   "execution_count": 66,
   "id": "77a118a4",
   "metadata": {},
   "outputs": [],
   "source": [
    "count_vect = CountVectorizer(analyzer='word', token_pattern=r'\\w{1,}')\n",
    "count_vect.fit(df['punctuation_removed'])\n",
    "# transform the training and validation data using count vectorizer object\n",
    "xtrain_count = count_vect.transform(train_x)\n",
    "xvalid_count = count_vect.transform(valid_x)"
   ]
  },
  {
   "cell_type": "code",
   "execution_count": 56,
   "id": "378637f7",
   "metadata": {},
   "outputs": [],
   "source": [
    "# word level tf-idf\n",
    "tfidf_vect = TfidfVectorizer(analyzer='word', token_pattern=r'\\w{1,}',max_features=5000)\n",
    "tfidf_vect.fit(df['punctuation_removed'])\n",
    "xtrain_tfidf = tfidf_vect.transform(train_x)\n",
    "xvalid_tfidf = tfidf_vect.transform(valid_x)"
   ]
  },
  {
   "cell_type": "code",
   "execution_count": 73,
   "id": "39e2af8d",
   "metadata": {},
   "outputs": [],
   "source": [
    "def train_model(classifier, vector_train, label, vector_valid):\n",
    "    classifier.fit(vector_train, label)\n",
    "    predictions = classifier.predict(vector_valid)\n",
    "    filename = 'tip.sav'\n",
    "    pickle.dump(classifier, open(filename, 'wb'))\n",
    "    return classification_report(predictions, valid_y ,target_names=classes)"
   ]
  },
  {
   "cell_type": "code",
   "execution_count": 74,
   "id": "421ff49b",
   "metadata": {},
   "outputs": [
    {
     "name": "stdout",
     "output_type": "stream",
     "text": [
      "LR, Count Vectors: \n",
      "               precision    recall  f1-score   support\n",
      "\n",
      "    Negative       0.82      0.84      0.83     12242\n",
      "    Positive       0.84      0.82      0.83     12758\n",
      "\n",
      "    accuracy                           0.83     25000\n",
      "   macro avg       0.83      0.83      0.83     25000\n",
      "weighted avg       0.83      0.83      0.83     25000\n",
      "\n",
      "------------------------------------------------\n"
     ]
    }
   ],
   "source": [
    "# Linear Classifier on Count Vectors\n",
    "accuracy = train_model(linear_model.LogisticRegression(), xtrain_count, train_y,xvalid_count)\n",
    "print( \"LR, Count Vectors: \\n\", accuracy)\n",
    "print(\"------------------------------------------------\")"
   ]
  },
  {
   "cell_type": "code",
   "execution_count": 63,
   "id": "71a32a60",
   "metadata": {},
   "outputs": [
    {
     "name": "stdout",
     "output_type": "stream",
     "text": [
      "LR, WordLevel TF-IDF: \n",
      "               precision    recall  f1-score   support\n",
      "\n",
      "    Negative       0.84      0.83      0.83     12671\n",
      "    Positive       0.83      0.84      0.83     12329\n",
      "\n",
      "    accuracy                           0.83     25000\n",
      "   macro avg       0.83      0.83      0.83     25000\n",
      "weighted avg       0.83      0.83      0.83     25000\n",
      "\n",
      "------------------------------------------------\n"
     ]
    }
   ],
   "source": [
    "# Linear Classifier on Word Level TF IDF Vectors\n",
    "accuracy = train_model(linear_model.LogisticRegression(), xtrain_tfidf, train_y,xvalid_tfidf)\n",
    "print( \"LR, WordLevel TF-IDF: \\n\", accuracy)\n",
    "print(\"------------------------------------------------\")"
   ]
  },
  {
   "cell_type": "code",
   "execution_count": 60,
   "id": "440e5e54",
   "metadata": {},
   "outputs": [],
   "source": [
    "import pickle"
   ]
  },
  {
   "cell_type": "code",
   "execution_count": 61,
   "id": "7631bdb1",
   "metadata": {},
   "outputs": [
    {
     "ename": "NameError",
     "evalue": "name 'classifier' is not defined",
     "output_type": "error",
     "traceback": [
      "\u001b[1;31m---------------------------------------------------------------------------\u001b[0m",
      "\u001b[1;31mNameError\u001b[0m                                 Traceback (most recent call last)",
      "\u001b[1;32m<ipython-input-61-37b014db95f9>\u001b[0m in \u001b[0;36m<module>\u001b[1;34m\u001b[0m\n\u001b[0;32m      1\u001b[0m \u001b[0mfilename\u001b[0m \u001b[1;33m=\u001b[0m \u001b[1;34m'finalized_model.sav'\u001b[0m\u001b[1;33m\u001b[0m\u001b[1;33m\u001b[0m\u001b[0m\n\u001b[1;32m----> 2\u001b[1;33m \u001b[0mpickle\u001b[0m\u001b[1;33m.\u001b[0m\u001b[0mdump\u001b[0m\u001b[1;33m(\u001b[0m\u001b[0mclassifier\u001b[0m\u001b[1;33m,\u001b[0m \u001b[0mopen\u001b[0m\u001b[1;33m(\u001b[0m\u001b[0mfilename\u001b[0m\u001b[1;33m,\u001b[0m \u001b[1;34m'wb'\u001b[0m\u001b[1;33m)\u001b[0m\u001b[1;33m)\u001b[0m\u001b[1;33m\u001b[0m\u001b[1;33m\u001b[0m\u001b[0m\n\u001b[0m",
      "\u001b[1;31mNameError\u001b[0m: name 'classifier' is not defined"
     ]
    }
   ],
   "source": [
    "filename = 'finalized_model.sav'\n",
    "pickle.dump(classifier, open(filename, 'wb'))"
   ]
  },
  {
   "cell_type": "code",
   "execution_count": 64,
   "id": "79a271cd",
   "metadata": {},
   "outputs": [
    {
     "data": {
      "text/html": [
       "<div>\n",
       "<style scoped>\n",
       "    .dataframe tbody tr th:only-of-type {\n",
       "        vertical-align: middle;\n",
       "    }\n",
       "\n",
       "    .dataframe tbody tr th {\n",
       "        vertical-align: top;\n",
       "    }\n",
       "\n",
       "    .dataframe thead th {\n",
       "        text-align: right;\n",
       "    }\n",
       "</style>\n",
       "<table border=\"1\" class=\"dataframe\">\n",
       "  <thead>\n",
       "    <tr style=\"text-align: right;\">\n",
       "      <th></th>\n",
       "      <th>Feedback</th>\n",
       "      <th>Sentiment</th>\n",
       "      <th>punctuation_removed</th>\n",
       "      <th>nltk_token</th>\n",
       "      <th>StopWords_Removed</th>\n",
       "    </tr>\n",
       "  </thead>\n",
       "  <tbody>\n",
       "    <tr>\n",
       "      <th>0</th>\n",
       "      <td>Of course Oliver Stone pulls out all the stops...</td>\n",
       "      <td>Positive</td>\n",
       "      <td>Of course Oliver Stone pulls out all the stops...</td>\n",
       "      <td>[of, course, oliver, stone, pulls, out, all, t...</td>\n",
       "      <td>[course, oliver, stone, pulls, stops, wild, de...</td>\n",
       "    </tr>\n",
       "    <tr>\n",
       "      <th>1</th>\n",
       "      <td>Bills Can Crusher</td>\n",
       "      <td>Positive</td>\n",
       "      <td>Bills Can Crusher</td>\n",
       "      <td>[bills, can, crusher]</td>\n",
       "      <td>[bills, crusher]</td>\n",
       "    </tr>\n",
       "    <tr>\n",
       "      <th>2</th>\n",
       "      <td>Product received with a chunk broken off of th...</td>\n",
       "      <td>Positive</td>\n",
       "      <td>Product received with a chunk broken off of th...</td>\n",
       "      <td>[product, received, with, a, chunk, broken, of...</td>\n",
       "      <td>[product, received, chunk, broken, griddle, ed...</td>\n",
       "    </tr>\n",
       "    <tr>\n",
       "      <th>3</th>\n",
       "      <td>Don't waste your money buying these jars!!!! T...</td>\n",
       "      <td>Negative</td>\n",
       "      <td>Dont waste your money buying these jars The id...</td>\n",
       "      <td>[dont, waste, your, money, buying, these, jars...</td>\n",
       "      <td>[dont, waste, money, buying, jars, idea, great...</td>\n",
       "    </tr>\n",
       "    <tr>\n",
       "      <th>4</th>\n",
       "      <td>This Game Rocks! Buy It I Got It Today And I L...</td>\n",
       "      <td>Positive</td>\n",
       "      <td>This Game Rocks Buy It I Got It Today And I Lo...</td>\n",
       "      <td>[this, game, rocks, buy, it, i, got, it, today...</td>\n",
       "      <td>[game, rocks, buy, got, today, love, way, bett...</td>\n",
       "    </tr>\n",
       "  </tbody>\n",
       "</table>\n",
       "</div>"
      ],
      "text/plain": [
       "                                            Feedback Sentiment  \\\n",
       "0  Of course Oliver Stone pulls out all the stops...  Positive   \n",
       "1                                  Bills Can Crusher  Positive   \n",
       "2  Product received with a chunk broken off of th...  Positive   \n",
       "3  Don't waste your money buying these jars!!!! T...  Negative   \n",
       "4  This Game Rocks! Buy It I Got It Today And I L...  Positive   \n",
       "\n",
       "                                 punctuation_removed  \\\n",
       "0  Of course Oliver Stone pulls out all the stops...   \n",
       "1                                  Bills Can Crusher   \n",
       "2  Product received with a chunk broken off of th...   \n",
       "3  Dont waste your money buying these jars The id...   \n",
       "4  This Game Rocks Buy It I Got It Today And I Lo...   \n",
       "\n",
       "                                          nltk_token  \\\n",
       "0  [of, course, oliver, stone, pulls, out, all, t...   \n",
       "1                              [bills, can, crusher]   \n",
       "2  [product, received, with, a, chunk, broken, of...   \n",
       "3  [dont, waste, your, money, buying, these, jars...   \n",
       "4  [this, game, rocks, buy, it, i, got, it, today...   \n",
       "\n",
       "                                   StopWords_Removed  \n",
       "0  [course, oliver, stone, pulls, stops, wild, de...  \n",
       "1                                   [bills, crusher]  \n",
       "2  [product, received, chunk, broken, griddle, ed...  \n",
       "3  [dont, waste, money, buying, jars, idea, great...  \n",
       "4  [game, rocks, buy, got, today, love, way, bett...  "
      ]
     },
     "execution_count": 64,
     "metadata": {},
     "output_type": "execute_result"
    }
   ],
   "source": [
    "df.head()"
   ]
  },
  {
   "cell_type": "code",
   "execution_count": 67,
   "id": "f2ed9520",
   "metadata": {},
   "outputs": [],
   "source": [
    "abc=df[['punctuation_removed']]"
   ]
  },
  {
   "cell_type": "code",
   "execution_count": 68,
   "id": "01722c6a",
   "metadata": {},
   "outputs": [],
   "source": [
    "abc.to_csv('abc.csv',index=False)"
   ]
  },
  {
   "cell_type": "code",
   "execution_count": 69,
   "id": "53172686",
   "metadata": {},
   "outputs": [
    {
     "data": {
      "text/plain": [
       "CountVectorizer(token_pattern='\\\\w{1,}')"
      ]
     },
     "execution_count": 69,
     "metadata": {},
     "output_type": "execute_result"
    }
   ],
   "source": [
    "count_vect"
   ]
  },
  {
   "cell_type": "code",
   "execution_count": 70,
   "id": "bdcf5a8f",
   "metadata": {},
   "outputs": [],
   "source": [
    "pickle.dump(count_vect.vocabulary_,open(\"feature.pkl\",\"wb\"))"
   ]
  },
  {
   "cell_type": "code",
   "execution_count": 72,
   "id": "ef6f2447",
   "metadata": {},
   "outputs": [],
   "source": [
    "import joblib\n",
    "\n",
    "# example for saving python object as pkl\n",
    "joblib.dump(count_vect, \"vectorizer.pkl\")\n",
    "\n",
    "# loading pickled vectorizer\n",
    "vectorizer = joblib.load(\"vectorizer.pkl\")"
   ]
  },
  {
   "cell_type": "code",
   "execution_count": null,
   "id": "ea6e7c18",
   "metadata": {},
   "outputs": [],
   "source": []
  }
 ],
 "metadata": {
  "kernelspec": {
   "display_name": "Python 3",
   "language": "python",
   "name": "python3"
  },
  "language_info": {
   "codemirror_mode": {
    "name": "ipython",
    "version": 3
   },
   "file_extension": ".py",
   "mimetype": "text/x-python",
   "name": "python",
   "nbconvert_exporter": "python",
   "pygments_lexer": "ipython3",
   "version": "3.8.8"
  }
 },
 "nbformat": 4,
 "nbformat_minor": 5
}
