{
 "cells": [
  {
   "cell_type": "code",
   "execution_count": null,
   "id": "7bfc990a",
   "metadata": {},
   "outputs": [],
   "source": [
    "import mysql.connector\n",
    "import pickle\n",
    "from sklearn.feature_extraction.text import CountVectorizer\n",
    "import numpy as np\n",
    "from wordcloud import WordCloud, STOPWORDS\n",
    "import matplotlib.pyplot as plt"
   ]
  },
  {
   "cell_type": "code",
   "execution_count": null,
   "id": "c37c9f45",
   "metadata": {},
   "outputs": [],
   "source": [
    "vec = pickle.load(open(\"df1.pkl\", 'rb'))\n",
    "loaded_model = pickle.load(open(\"tip.sav\", 'rb'))"
   ]
  },
  {
   "cell_type": "code",
   "execution_count": null,
   "id": "50b6bddd",
   "metadata": {},
   "outputs": [],
   "source": [
    "mydb = mysql.connector.connect(\n",
    "  host=\"localhost\",\n",
    "  user=\"root\",\n",
    "  password=\"root\",\n",
    "  database=\"xenathon\"\n",
    ")\n",
    "\n",
    "mycursor = mydb.cursor()"
   ]
  },
  {
   "cell_type": "code",
   "execution_count": null,
   "id": "7a9469fd",
   "metadata": {},
   "outputs": [],
   "source": [
    "mycursor.execute(\"SELECT userid,review,mailid FROM customers WHERE userid='12680'\")\n",
    "\n",
    "myresult = mycursor.fetchall()\n",
    "\n",
    "l=[]\n",
    "for x in myresult:\n",
    "    rv=[x[1]]\n",
    "    rv= vec.transform(rv)\n",
    "    predct=loaded_model.predict(rv)\n",
    "    l.append(predct[0])\n",
    "count=0\n",
    "for i in l:\n",
    "    if(i == 0):\n",
    "        count+=1\n",
    "sz=len(l)\n",
    "pos=((sz-count)/sz)*100\n",
    "print(pos)"
   ]
  },
  {
   "cell_type": "code",
   "execution_count": null,
   "id": "78e1280f",
   "metadata": {},
   "outputs": [],
   "source": [
    "comment_words = ''\n",
    "stopwords = set(STOPWORDS)\n",
    "for val in myresult[1]:\n",
    "    val = str(val)\n",
    "    tokens = val.split()\n",
    "    for i in range(len(tokens)):\n",
    "        tokens[i] = tokens[i].lower()\n",
    "    comment_words += \" \".join(tokens)+\" \"\n",
    "    \n",
    "wordcloud = WordCloud(width = 800, height = 800,\n",
    "                background_color ='white',\n",
    "                stopwords = stopwords,\n",
    "                min_font_size = 10).generate(comment_words)\n",
    " \n",
    "plt.figure(figsize = (8, 8), facecolor = None)\n",
    "plt.imshow(wordcloud)\n",
    "plt.axis(\"off\")\n",
    "plt.tight_layout(pad = 0)\n",
    " \n",
    "plt.show()"
   ]
  }
 ],
 "metadata": {
  "kernelspec": {
   "display_name": "Python 3",
   "language": "python",
   "name": "python3"
  },
  "language_info": {
   "codemirror_mode": {
    "name": "ipython",
    "version": 3
   },
   "file_extension": ".py",
   "mimetype": "text/x-python",
   "name": "python",
   "nbconvert_exporter": "python",
   "pygments_lexer": "ipython3",
   "version": "3.8.8"
  }
 },
 "nbformat": 4,
 "nbformat_minor": 5
}
