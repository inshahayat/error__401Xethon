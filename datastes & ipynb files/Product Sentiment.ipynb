{
 "cells": [
  {
   "cell_type": "code",
   "execution_count": null,
   "id": "96d7eb84",
   "metadata": {},
   "outputs": [],
   "source": [
    "import mysql.connector\n",
    "import pickle\n",
    "from sklearn.feature_extraction.text import CountVectorizer\n",
    "import numpy as np\n",
    "from wordcloud import WordCloud, STOPWORDS\n",
    "import matplotlib.pyplot as plt\n",
    "from scipy.sparse import csr_matrix\n",
    "from sklearn.neighbors import NearestNeighbors"
   ]
  },
  {
   "cell_type": "code",
   "execution_count": null,
   "id": "4a154b7e",
   "metadata": {},
   "outputs": [],
   "source": [
    "vec = pickle.load(open(\"df1.pkl\", 'rb'))\n",
    "loaded_model = pickle.load(open(\"tip.sav\", 'rb'))\n",
    "products = pd.read_csv(\"products.csv\")\n",
    "purchase = pd.read_csv(\"Purchase_His.csv\")"
   ]
  },
  {
   "cell_type": "code",
   "execution_count": null,
   "id": "2b9cef88",
   "metadata": {},
   "outputs": [],
   "source": [
    "mydb = mysql.connector.connect(\n",
    "  host=\"localhost\",\n",
    "  user=\"root\",\n",
    "  password=\"root\",\n",
    "  database=\"xenathon\"\n",
    ")\n",
    "\n",
    "mycursor = mydb.cursor()"
   ]
  },
  {
   "cell_type": "code",
   "execution_count": null,
   "id": "1b44f614",
   "metadata": {},
   "outputs": [],
   "source": [
    "mycursor.execute(\"SELECT userid,review,mailid,prodname FROM customers WHERE prodid='71053'\")\n",
    "\n",
    "myresult = mycursor.fetchall()\n",
    "\n",
    "l=[]\n",
    "pos=[]\n",
    "neg=[]\n",
    "for x in myresult:\n",
    "    rv=[x[1]]\n",
    "    rv= vec.transform(rv)\n",
    "    predct=loaded_model.predict(rv)\n",
    "    l.append(predct[0])\n",
    "    if(predct[0] == 0):\n",
    "        neg.append(x[2])\n",
    "    else:\n",
    "        pos.append(x[2])\n",
    "\n",
    "sz=len(l)\n",
    "positive_percent=((sz-len(neg))/sz)*100\n",
    "print(positive_percent)"
   ]
  },
  {
   "cell_type": "code",
   "execution_count": null,
   "id": "339faf09",
   "metadata": {},
   "outputs": [],
   "source": [
    "comment_words = ''\n",
    "stopwords = set(STOPWORDS)\n",
    "for val in myresult[1]:\n",
    "    val = str(val)\n",
    "    tokens = val.split()\n",
    "    for i in range(len(tokens)):\n",
    "        tokens[i] = tokens[i].lower()\n",
    "    comment_words += \" \".join(tokens)+\" \"\n",
    "    \n",
    "wordcloud = WordCloud(width = 800, height = 800,\n",
    "                background_color ='white',\n",
    "                stopwords = stopwords,\n",
    "                min_font_size = 10).generate(comment_words)\n",
    " \n",
    "plt.figure(figsize = (8, 8), facecolor = None)\n",
    "plt.imshow(wordcloud)\n",
    "plt.axis(\"off\")\n",
    "plt.tight_layout(pad = 0)\n",
    " \n",
    "plt.show()"
   ]
  },
  {
   "cell_type": "code",
   "execution_count": null,
   "id": "0468b0bc",
   "metadata": {},
   "outputs": [],
   "source": [
    "final_dataset = purchase.pivot(index='StockCode',columns='CustomerID',values='Purchase')\n",
    "final_dataset.fillna(0,inplace=True)\n",
    "no_user_purchased = purchase.groupby('StockCode')['Purchase'].agg('count')\n",
    "no_products_purchased = purchase.groupby('CustomerID')['Purchase'].agg('count')\n",
    "final_dataset = final_dataset.loc[no_user_purchased[no_user_purchased > 10].index,:]\n",
    "final_dataset=final_dataset.loc[:,no_products_purchased[no_products_purchased > 50].index]\n",
    "csr_data = csr_matrix(final_dataset.values)\n",
    "final_dataset.reset_index(inplace=True)\n",
    "knn = NearestNeighbors(metric='cosine', algorithm='brute', n_neighbors=20, n_jobs=-1)\n",
    "knn.fit(csr_data)"
   ]
  },
  {
   "cell_type": "code",
   "execution_count": null,
   "id": "a4c804b8",
   "metadata": {},
   "outputs": [],
   "source": [
    "def get_product_recommendation(product_name):\n",
    "    n_products_to_reccomend = 10\n",
    "    product_list = products[products['Description'].str.contains(product_name)]  \n",
    "    if len(product_list):        \n",
    "        product_idx= product_list.iloc[0]['StockCode']\n",
    "        product_idx = final_dataset[final_dataset['StockCode'] == product_idx].index[0]\n",
    "        distances , indices = knn.kneighbors(csr_data[product_idx],n_neighbors=n_products_to_reccomend+1)    \n",
    "        rec_product_indices = sorted(list(zip(indices.squeeze().tolist(),distances.squeeze().tolist())),key=lambda x: x[1])[:0:-1]\n",
    "        recommend_frame = []\n",
    "        for val in rec_product_indices:\n",
    "            product_idx = final_dataset.iloc[val[0]]['StockCode']\n",
    "            idx = products[products['StockCode'] == product_idx].index\n",
    "            recommend_frame.append({'Description':products.iloc[idx]['Description'].values[0],'StockCode':products.iloc[idx]['StockCode'].values[0],'Distance':val[1]})\n",
    "        df = pd.DataFrame(recommend_frame,index=range(1,n_products_to_reccomend+1))\n",
    "        return df\n",
    "    else:\n",
    "        return \"Nothing To Recommend\""
   ]
  },
  {
   "cell_type": "code",
   "execution_count": null,
   "id": "fbb4bc45",
   "metadata": {},
   "outputs": [],
   "source": [
    "data=myresult[1][3]\n",
    "print(data)\n",
    "get_product_recommendation(data)"
   ]
  }
 ],
 "metadata": {
  "kernelspec": {
   "display_name": "Python 3",
   "language": "python",
   "name": "python3"
  },
  "language_info": {
   "codemirror_mode": {
    "name": "ipython",
    "version": 3
   },
   "file_extension": ".py",
   "mimetype": "text/x-python",
   "name": "python",
   "nbconvert_exporter": "python",
   "pygments_lexer": "ipython3",
   "version": "3.8.8"
  }
 },
 "nbformat": 4,
 "nbformat_minor": 5
}
