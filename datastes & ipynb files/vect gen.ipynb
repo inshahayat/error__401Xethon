{
 "cells": [
  {
   "cell_type": "code",
   "execution_count": 1,
   "id": "b3074e8b",
   "metadata": {},
   "outputs": [],
   "source": [
    "import pandas as pd"
   ]
  },
  {
   "cell_type": "code",
   "execution_count": 2,
   "id": "fb3dfa33",
   "metadata": {},
   "outputs": [],
   "source": [
    "df= pd.read_csv(\"demo.csv\")"
   ]
  },
  {
   "cell_type": "code",
   "execution_count": 3,
   "id": "87224c50",
   "metadata": {},
   "outputs": [
    {
     "data": {
      "text/plain": [
       "(100000, 2)"
      ]
     },
     "execution_count": 3,
     "metadata": {},
     "output_type": "execute_result"
    }
   ],
   "source": [
    "df.shape"
   ]
  },
  {
   "cell_type": "code",
   "execution_count": 4,
   "id": "6c859635",
   "metadata": {},
   "outputs": [
    {
     "name": "stdout",
     "output_type": "stream",
     "text": [
      "<class 'pandas.core.frame.DataFrame'>\n",
      "RangeIndex: 100000 entries, 0 to 99999\n",
      "Data columns (total 2 columns):\n",
      " #   Column     Non-Null Count   Dtype \n",
      "---  ------     --------------   ----- \n",
      " 0   Feedback   100000 non-null  object\n",
      " 1   Sentiment  100000 non-null  object\n",
      "dtypes: object(2)\n",
      "memory usage: 1.5+ MB\n"
     ]
    }
   ],
   "source": [
    "df.info()"
   ]
  },
  {
   "cell_type": "code",
   "execution_count": 5,
   "id": "fdd0d911",
   "metadata": {},
   "outputs": [],
   "source": [
    "import matplotlib.pyplot as plt\n",
    "import numpy as np\n",
    "import matplotlib as mpl"
   ]
  },
  {
   "cell_type": "code",
   "execution_count": 6,
   "id": "fcd1d3af",
   "metadata": {},
   "outputs": [],
   "source": [
    "punc = '''!()-[]{};:'\"\\,<>./?@#$%^&*_~'''\n",
    "\n",
    "def remove_puc(text):\n",
    "    for ele in text:\n",
    "        if ele in punc:\n",
    "            text = text.replace(ele, \"\")\n",
    "    return text"
   ]
  },
  {
   "cell_type": "code",
   "execution_count": 7,
   "id": "5ac8a3c5",
   "metadata": {},
   "outputs": [],
   "source": [
    "df[\"punctuation_removed\"] = df[\"Feedback\"].apply(lambda x: remove_puc(x))"
   ]
  },
  {
   "cell_type": "code",
   "execution_count": 8,
   "id": "9d20de82",
   "metadata": {},
   "outputs": [
    {
     "data": {
      "text/html": [
       "<div>\n",
       "<style scoped>\n",
       "    .dataframe tbody tr th:only-of-type {\n",
       "        vertical-align: middle;\n",
       "    }\n",
       "\n",
       "    .dataframe tbody tr th {\n",
       "        vertical-align: top;\n",
       "    }\n",
       "\n",
       "    .dataframe thead th {\n",
       "        text-align: right;\n",
       "    }\n",
       "</style>\n",
       "<table border=\"1\" class=\"dataframe\">\n",
       "  <thead>\n",
       "    <tr style=\"text-align: right;\">\n",
       "      <th></th>\n",
       "      <th>Feedback</th>\n",
       "      <th>Sentiment</th>\n",
       "      <th>punctuation_removed</th>\n",
       "    </tr>\n",
       "  </thead>\n",
       "  <tbody>\n",
       "    <tr>\n",
       "      <th>0</th>\n",
       "      <td>Of course Oliver Stone pulls out all the stops...</td>\n",
       "      <td>Positive</td>\n",
       "      <td>Of course Oliver Stone pulls out all the stops...</td>\n",
       "    </tr>\n",
       "    <tr>\n",
       "      <th>1</th>\n",
       "      <td>Bills Can Crusher</td>\n",
       "      <td>Positive</td>\n",
       "      <td>Bills Can Crusher</td>\n",
       "    </tr>\n",
       "    <tr>\n",
       "      <th>2</th>\n",
       "      <td>Product received with a chunk broken off of th...</td>\n",
       "      <td>Positive</td>\n",
       "      <td>Product received with a chunk broken off of th...</td>\n",
       "    </tr>\n",
       "    <tr>\n",
       "      <th>3</th>\n",
       "      <td>Don't waste your money buying these jars!!!! T...</td>\n",
       "      <td>Negative</td>\n",
       "      <td>Dont waste your money buying these jars The id...</td>\n",
       "    </tr>\n",
       "    <tr>\n",
       "      <th>4</th>\n",
       "      <td>This Game Rocks! Buy It I Got It Today And I L...</td>\n",
       "      <td>Positive</td>\n",
       "      <td>This Game Rocks Buy It I Got It Today And I Lo...</td>\n",
       "    </tr>\n",
       "  </tbody>\n",
       "</table>\n",
       "</div>"
      ],
      "text/plain": [
       "                                            Feedback Sentiment  \\\n",
       "0  Of course Oliver Stone pulls out all the stops...  Positive   \n",
       "1                                  Bills Can Crusher  Positive   \n",
       "2  Product received with a chunk broken off of th...  Positive   \n",
       "3  Don't waste your money buying these jars!!!! T...  Negative   \n",
       "4  This Game Rocks! Buy It I Got It Today And I L...  Positive   \n",
       "\n",
       "                                 punctuation_removed  \n",
       "0  Of course Oliver Stone pulls out all the stops...  \n",
       "1                                  Bills Can Crusher  \n",
       "2  Product received with a chunk broken off of th...  \n",
       "3  Dont waste your money buying these jars The id...  \n",
       "4  This Game Rocks Buy It I Got It Today And I Lo...  "
      ]
     },
     "execution_count": 8,
     "metadata": {},
     "output_type": "execute_result"
    }
   ],
   "source": [
    "df.head()"
   ]
  },
  {
   "cell_type": "code",
   "execution_count": 9,
   "id": "6bb760f1",
   "metadata": {},
   "outputs": [],
   "source": [
    "import nltk\n",
    "from nltk.corpus import stopwords\n",
    "from nltk.tokenize import word_tokenize"
   ]
  },
  {
   "cell_type": "code",
   "execution_count": 10,
   "id": "27906eef",
   "metadata": {},
   "outputs": [],
   "source": [
    "from nltk.tokenize import sent_tokenize\n",
    "\n",
    "df[\"nltk_token\"] = df[\"punctuation_removed\"].apply(lambda x: word_tokenize(x.lower()))"
   ]
  },
  {
   "cell_type": "code",
   "execution_count": 11,
   "id": "f3d3a744",
   "metadata": {},
   "outputs": [],
   "source": [
    "from sklearn import model_selection, preprocessing, linear_model, naive_bayes, svm\n",
    "from sklearn.feature_extraction.text import TfidfVectorizer, CountVectorizer\n",
    "from sklearn import decomposition, ensemble\n",
    "import xgboost, textblob, string\n",
    "import numpy as np\n",
    "from sklearn.metrics import classification_report\n",
    "import warnings\n",
    "warnings.filterwarnings(\"ignore\")"
   ]
  },
  {
   "cell_type": "code",
   "execution_count": 12,
   "id": "9f0c9e6d",
   "metadata": {},
   "outputs": [],
   "source": [
    "classes = ['Negative', 'Positive']"
   ]
  },
  {
   "cell_type": "code",
   "execution_count": 13,
   "id": "6c7f6f21",
   "metadata": {},
   "outputs": [],
   "source": [
    "train_x, valid_x, train_y, valid_y = model_selection.train_test_split(df['punctuation_removed'], df['Sentiment'])\n",
    "# Data is divided into 75% training and 25% testing by default\n",
    "# label encode the target variable\n",
    "encoder = preprocessing.LabelEncoder()\n",
    "train_y = encoder.fit_transform(train_y)\n",
    "valid_y = encoder.fit_transform(valid_y)"
   ]
  },
  {
   "cell_type": "code",
   "execution_count": 15,
   "id": "77a118a4",
   "metadata": {},
   "outputs": [],
   "source": [
    "count_vect = CountVectorizer(analyzer='word', token_pattern=r'\\w{1,}')\n",
    "transformer=count_vect.fit(df['punctuation_removed'])"
   ]
  },
  {
   "cell_type": "code",
   "execution_count": 16,
   "id": "5e7c8618",
   "metadata": {},
   "outputs": [],
   "source": [
    "import pickle"
   ]
  },
  {
   "cell_type": "code",
   "execution_count": 18,
   "id": "58902070",
   "metadata": {},
   "outputs": [],
   "source": [
    "# Dump the file\n",
    "pickle.dump(transformer, open(\"df1.pkl\", \"wb\"))\n",
    "\n",
    "\n",
    "# Testing phase\n",
    "#tf1 = pickle.load(open(\"tfidf1.pkl\", 'rb'))"
   ]
  },
  {
   "cell_type": "code",
   "execution_count": null,
   "id": "472cdab7",
   "metadata": {},
   "outputs": [],
   "source": []
  }
 ],
 "metadata": {
  "kernelspec": {
   "display_name": "Python 3",
   "language": "python",
   "name": "python3"
  },
  "language_info": {
   "codemirror_mode": {
    "name": "ipython",
    "version": 3
   },
   "file_extension": ".py",
   "mimetype": "text/x-python",
   "name": "python",
   "nbconvert_exporter": "python",
   "pygments_lexer": "ipython3",
   "version": "3.8.8"
  }
 },
 "nbformat": 4,
 "nbformat_minor": 5
}
