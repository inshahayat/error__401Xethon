{
 "cells": [
  {
   "cell_type": "code",
   "execution_count": 1,
   "id": "5bf996e0",
   "metadata": {},
   "outputs": [],
   "source": [
    "import pandas as pd\n",
    "import pickle\n",
    "from sklearn.feature_extraction.text import CountVectorizer\n",
    "import numpy as np\n"
   ]
  },
  {
   "cell_type": "code",
   "execution_count": 2,
   "id": "6cea6b4f",
   "metadata": {},
   "outputs": [],
   "source": [
    "vec = pickle.load(open(\"df1.pkl\", 'rb'))"
   ]
  },
  {
   "cell_type": "code",
   "execution_count": 3,
   "id": "7f5e16bb",
   "metadata": {},
   "outputs": [
    {
     "name": "stdout",
     "output_type": "stream",
     "text": [
      "Please enter your review: The product is good\n"
     ]
    }
   ],
   "source": [
    "a = input(\"Please enter your review: \")\n",
    "a = [a]"
   ]
  },
  {
   "cell_type": "code",
   "execution_count": 4,
   "id": "accded60",
   "metadata": {},
   "outputs": [],
   "source": [
    "a= vec.transform(a)"
   ]
  },
  {
   "cell_type": "code",
   "execution_count": 5,
   "id": "1baa2301",
   "metadata": {},
   "outputs": [
    {
     "name": "stdout",
     "output_type": "stream",
     "text": [
      "Positive\n"
     ]
    }
   ],
   "source": [
    "loaded_model = pickle.load(open(\"tip.sav\", 'rb'))\n",
    "predct = loaded_model.predict(a)\n",
    "\n",
    "if(predct[0] == 0):\n",
    "    print(\"Negative\")\n",
    "else:\n",
    "    print(\"Positive\")"
   ]
  },
  {
   "cell_type": "code",
   "execution_count": null,
   "id": "f7011a09",
   "metadata": {},
   "outputs": [],
   "source": []
  }
 ],
 "metadata": {
  "kernelspec": {
   "display_name": "Python 3",
   "language": "python",
   "name": "python3"
  },
  "language_info": {
   "codemirror_mode": {
    "name": "ipython",
    "version": 3
   },
   "file_extension": ".py",
   "mimetype": "text/x-python",
   "name": "python",
   "nbconvert_exporter": "python",
   "pygments_lexer": "ipython3",
   "version": "3.8.8"
  }
 },
 "nbformat": 4,
 "nbformat_minor": 5
}
