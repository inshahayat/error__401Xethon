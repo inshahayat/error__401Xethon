{
 "cells": [
  {
   "cell_type": "code",
   "execution_count": 1,
   "id": "b16a9e7d",
   "metadata": {},
   "outputs": [],
   "source": [
    "import pandas as pd"
   ]
  },
  {
   "cell_type": "code",
   "execution_count": 87,
   "id": "2a2f4ebf",
   "metadata": {},
   "outputs": [],
   "source": [
    "df=pd.read_csv(\"final.csv\")"
   ]
  },
  {
   "cell_type": "code",
   "execution_count": 91,
   "id": "dd315c16",
   "metadata": {},
   "outputs": [
    {
     "data": {
      "text/html": [
       "<div>\n",
       "<style scoped>\n",
       "    .dataframe tbody tr th:only-of-type {\n",
       "        vertical-align: middle;\n",
       "    }\n",
       "\n",
       "    .dataframe tbody tr th {\n",
       "        vertical-align: top;\n",
       "    }\n",
       "\n",
       "    .dataframe thead th {\n",
       "        text-align: right;\n",
       "    }\n",
       "</style>\n",
       "<table border=\"1\" class=\"dataframe\">\n",
       "  <thead>\n",
       "    <tr style=\"text-align: right;\">\n",
       "      <th></th>\n",
       "      <th>StockCode</th>\n",
       "      <th>Description</th>\n",
       "      <th>mailid</th>\n",
       "      <th>CustomerID</th>\n",
       "      <th>reviews</th>\n",
       "    </tr>\n",
       "  </thead>\n",
       "  <tbody>\n",
       "    <tr>\n",
       "      <th>0</th>\n",
       "      <td>85123A</td>\n",
       "      <td>WHITE HANGING HEART T-LIGHT HOLDER</td>\n",
       "      <td>rohan10.rohan10@gmail.com</td>\n",
       "      <td>17850</td>\n",
       "      <td>Of course Oliver Stone pulls out all the stops...</td>\n",
       "    </tr>\n",
       "    <tr>\n",
       "      <th>1</th>\n",
       "      <td>71053</td>\n",
       "      <td>WHITE METAL LANTERN</td>\n",
       "      <td>rohan10.rohan10@gmail.com</td>\n",
       "      <td>17850</td>\n",
       "      <td>Bills Can Crusher</td>\n",
       "    </tr>\n",
       "    <tr>\n",
       "      <th>2</th>\n",
       "      <td>84406B</td>\n",
       "      <td>CREAM CUPID HEARTS COAT HANGER</td>\n",
       "      <td>rohan10.rohan10@gmail.com</td>\n",
       "      <td>17850</td>\n",
       "      <td>Product received with a chunk broken off of th...</td>\n",
       "    </tr>\n",
       "    <tr>\n",
       "      <th>3</th>\n",
       "      <td>84029G</td>\n",
       "      <td>KNITTED UNION FLAG HOT WATER BOTTLE</td>\n",
       "      <td>rohan10.rohan10@gmail.com</td>\n",
       "      <td>17850</td>\n",
       "      <td>Don't waste your money buying these jars!!!! T...</td>\n",
       "    </tr>\n",
       "    <tr>\n",
       "      <th>4</th>\n",
       "      <td>84029E</td>\n",
       "      <td>RED WOOLLY HOTTIE WHITE HEART.</td>\n",
       "      <td>rohan10.rohan10@gmail.com</td>\n",
       "      <td>17850</td>\n",
       "      <td>This Game Rocks! Buy It I Got It Today And I L...</td>\n",
       "    </tr>\n",
       "  </tbody>\n",
       "</table>\n",
       "</div>"
      ],
      "text/plain": [
       "  StockCode                          Description                     mailid  \\\n",
       "0    85123A   WHITE HANGING HEART T-LIGHT HOLDER  rohan10.rohan10@gmail.com   \n",
       "1     71053                  WHITE METAL LANTERN  rohan10.rohan10@gmail.com   \n",
       "2    84406B       CREAM CUPID HEARTS COAT HANGER  rohan10.rohan10@gmail.com   \n",
       "3    84029G  KNITTED UNION FLAG HOT WATER BOTTLE  rohan10.rohan10@gmail.com   \n",
       "4    84029E       RED WOOLLY HOTTIE WHITE HEART.  rohan10.rohan10@gmail.com   \n",
       "\n",
       "   CustomerID                                            reviews  \n",
       "0       17850  Of course Oliver Stone pulls out all the stops...  \n",
       "1       17850                                  Bills Can Crusher  \n",
       "2       17850  Product received with a chunk broken off of th...  \n",
       "3       17850  Don't waste your money buying these jars!!!! T...  \n",
       "4       17850  This Game Rocks! Buy It I Got It Today And I L...  "
      ]
     },
     "execution_count": 91,
     "metadata": {},
     "output_type": "execute_result"
    }
   ],
   "source": [
    "df1.head()"
   ]
  },
  {
   "cell_type": "code",
   "execution_count": 92,
   "id": "b7689fe0",
   "metadata": {},
   "outputs": [],
   "source": [
    "df1.to_csv('sql_dt.csv',index=False)"
   ]
  },
  {
   "cell_type": "code",
   "execution_count": null,
   "id": "805ab275",
   "metadata": {},
   "outputs": [],
   "source": [
    "d"
   ]
  },
  {
   "cell_type": "code",
   "execution_count": null,
   "id": "13213903",
   "metadata": {},
   "outputs": [],
   "source": []
  },
  {
   "cell_type": "code",
   "execution_count": null,
   "id": "82c4e46e",
   "metadata": {},
   "outputs": [],
   "source": []
  },
  {
   "cell_type": "code",
   "execution_count": null,
   "id": "9c634b75",
   "metadata": {},
   "outputs": [],
   "source": []
  },
  {
   "cell_type": "code",
   "execution_count": null,
   "id": "74083988",
   "metadata": {},
   "outputs": [],
   "source": []
  },
  {
   "cell_type": "code",
   "execution_count": null,
   "id": "55862750",
   "metadata": {},
   "outputs": [],
   "source": []
  },
  {
   "cell_type": "code",
   "execution_count": null,
   "id": "a3c86c30",
   "metadata": {},
   "outputs": [],
   "source": []
  },
  {
   "cell_type": "code",
   "execution_count": 64,
   "id": "51bfa0a2",
   "metadata": {},
   "outputs": [],
   "source": [
    "df1=df[['StockCode','CustomerID']]"
   ]
  },
  {
   "cell_type": "code",
   "execution_count": 65,
   "id": "9a4f3a3c",
   "metadata": {},
   "outputs": [],
   "source": [
    "df1['Purchase']=1"
   ]
  },
  {
   "cell_type": "code",
   "execution_count": 66,
   "id": "0c42d2a3",
   "metadata": {},
   "outputs": [
    {
     "data": {
      "text/html": [
       "<div>\n",
       "<style scoped>\n",
       "    .dataframe tbody tr th:only-of-type {\n",
       "        vertical-align: middle;\n",
       "    }\n",
       "\n",
       "    .dataframe tbody tr th {\n",
       "        vertical-align: top;\n",
       "    }\n",
       "\n",
       "    .dataframe thead th {\n",
       "        text-align: right;\n",
       "    }\n",
       "</style>\n",
       "<table border=\"1\" class=\"dataframe\">\n",
       "  <thead>\n",
       "    <tr style=\"text-align: right;\">\n",
       "      <th></th>\n",
       "      <th>StockCode</th>\n",
       "      <th>CustomerID</th>\n",
       "      <th>Purchase</th>\n",
       "    </tr>\n",
       "  </thead>\n",
       "  <tbody>\n",
       "    <tr>\n",
       "      <th>0</th>\n",
       "      <td>85123A</td>\n",
       "      <td>17850</td>\n",
       "      <td>1</td>\n",
       "    </tr>\n",
       "    <tr>\n",
       "      <th>1</th>\n",
       "      <td>71053</td>\n",
       "      <td>17850</td>\n",
       "      <td>1</td>\n",
       "    </tr>\n",
       "    <tr>\n",
       "      <th>2</th>\n",
       "      <td>84406B</td>\n",
       "      <td>17850</td>\n",
       "      <td>1</td>\n",
       "    </tr>\n",
       "    <tr>\n",
       "      <th>3</th>\n",
       "      <td>84029G</td>\n",
       "      <td>17850</td>\n",
       "      <td>1</td>\n",
       "    </tr>\n",
       "    <tr>\n",
       "      <th>4</th>\n",
       "      <td>84029E</td>\n",
       "      <td>17850</td>\n",
       "      <td>1</td>\n",
       "    </tr>\n",
       "  </tbody>\n",
       "</table>\n",
       "</div>"
      ],
      "text/plain": [
       "  StockCode  CustomerID  Purchase\n",
       "0    85123A       17850         1\n",
       "1     71053       17850         1\n",
       "2    84406B       17850         1\n",
       "3    84029G       17850         1\n",
       "4    84029E       17850         1"
      ]
     },
     "execution_count": 66,
     "metadata": {},
     "output_type": "execute_result"
    }
   ],
   "source": [
    "df1.head()"
   ]
  },
  {
   "cell_type": "code",
   "execution_count": 67,
   "id": "a908aba0",
   "metadata": {},
   "outputs": [],
   "source": [
    "df1.to_csv(\"Purchase_His.csv\",index=False)"
   ]
  },
  {
   "cell_type": "code",
   "execution_count": 9,
   "id": "114bf4e2",
   "metadata": {},
   "outputs": [
    {
     "data": {
      "text/plain": [
       "4372"
      ]
     },
     "execution_count": 9,
     "metadata": {},
     "output_type": "execute_result"
    }
   ],
   "source": [
    "len(df1.CustomerID.unique())"
   ]
  },
  {
   "cell_type": "code",
   "execution_count": 11,
   "id": "e455dc0b",
   "metadata": {},
   "outputs": [],
   "source": [
    "newdf=df1.CustomerID.unique()"
   ]
  },
  {
   "cell_type": "code",
   "execution_count": 12,
   "id": "b98ae9c3",
   "metadata": {},
   "outputs": [
    {
     "data": {
      "text/plain": [
       "numpy.ndarray"
      ]
     },
     "execution_count": 12,
     "metadata": {},
     "output_type": "execute_result"
    }
   ],
   "source": [
    "type(newdf)"
   ]
  },
  {
   "cell_type": "code",
   "execution_count": 13,
   "id": "2001f10a",
   "metadata": {},
   "outputs": [],
   "source": [
    "newdf=pd.DataFrame(newdf)"
   ]
  },
  {
   "cell_type": "code",
   "execution_count": 15,
   "id": "0414b7c6",
   "metadata": {},
   "outputs": [],
   "source": [
    "newdf = newdf.rename(columns={0:\"Custommer Id\"})\n"
   ]
  },
  {
   "cell_type": "code",
   "execution_count": 17,
   "id": "9ac84963",
   "metadata": {},
   "outputs": [],
   "source": [
    "for i in df1.StockCode.unique():\n",
    "    newdf[i]=0"
   ]
  },
  {
   "cell_type": "code",
   "execution_count": 23,
   "id": "2f25339a",
   "metadata": {},
   "outputs": [
    {
     "data": {
      "text/html": [
       "<div>\n",
       "<style scoped>\n",
       "    .dataframe tbody tr th:only-of-type {\n",
       "        vertical-align: middle;\n",
       "    }\n",
       "\n",
       "    .dataframe tbody tr th {\n",
       "        vertical-align: top;\n",
       "    }\n",
       "\n",
       "    .dataframe thead th {\n",
       "        text-align: right;\n",
       "    }\n",
       "</style>\n",
       "<table border=\"1\" class=\"dataframe\">\n",
       "  <thead>\n",
       "    <tr style=\"text-align: right;\">\n",
       "      <th></th>\n",
       "      <th>Custommer Id</th>\n",
       "      <th>85123A</th>\n",
       "      <th>71053</th>\n",
       "      <th>84406B</th>\n",
       "      <th>84029G</th>\n",
       "      <th>84029E</th>\n",
       "      <th>22752</th>\n",
       "      <th>21730</th>\n",
       "      <th>22633</th>\n",
       "      <th>22632</th>\n",
       "      <th>...</th>\n",
       "      <th>23562</th>\n",
       "      <th>23561</th>\n",
       "      <th>90214F</th>\n",
       "      <th>90214O</th>\n",
       "      <th>90214T</th>\n",
       "      <th>90214U</th>\n",
       "      <th>90214W</th>\n",
       "      <th>90214Z</th>\n",
       "      <th>90089</th>\n",
       "      <th>23843</th>\n",
       "    </tr>\n",
       "  </thead>\n",
       "  <tbody>\n",
       "    <tr>\n",
       "      <th>0</th>\n",
       "      <td>17850</td>\n",
       "      <td>1</td>\n",
       "      <td>1</td>\n",
       "      <td>1</td>\n",
       "      <td>1</td>\n",
       "      <td>1</td>\n",
       "      <td>1</td>\n",
       "      <td>1</td>\n",
       "      <td>1</td>\n",
       "      <td>1</td>\n",
       "      <td>...</td>\n",
       "      <td>0</td>\n",
       "      <td>0</td>\n",
       "      <td>0</td>\n",
       "      <td>0</td>\n",
       "      <td>0</td>\n",
       "      <td>0</td>\n",
       "      <td>0</td>\n",
       "      <td>0</td>\n",
       "      <td>0</td>\n",
       "      <td>0</td>\n",
       "    </tr>\n",
       "    <tr>\n",
       "      <th>1</th>\n",
       "      <td>13047</td>\n",
       "      <td>1</td>\n",
       "      <td>0</td>\n",
       "      <td>0</td>\n",
       "      <td>0</td>\n",
       "      <td>0</td>\n",
       "      <td>0</td>\n",
       "      <td>0</td>\n",
       "      <td>0</td>\n",
       "      <td>0</td>\n",
       "      <td>...</td>\n",
       "      <td>0</td>\n",
       "      <td>0</td>\n",
       "      <td>0</td>\n",
       "      <td>0</td>\n",
       "      <td>0</td>\n",
       "      <td>0</td>\n",
       "      <td>0</td>\n",
       "      <td>0</td>\n",
       "      <td>0</td>\n",
       "      <td>0</td>\n",
       "    </tr>\n",
       "    <tr>\n",
       "      <th>2</th>\n",
       "      <td>12583</td>\n",
       "      <td>0</td>\n",
       "      <td>0</td>\n",
       "      <td>0</td>\n",
       "      <td>0</td>\n",
       "      <td>0</td>\n",
       "      <td>0</td>\n",
       "      <td>0</td>\n",
       "      <td>0</td>\n",
       "      <td>0</td>\n",
       "      <td>...</td>\n",
       "      <td>1</td>\n",
       "      <td>0</td>\n",
       "      <td>0</td>\n",
       "      <td>0</td>\n",
       "      <td>0</td>\n",
       "      <td>0</td>\n",
       "      <td>0</td>\n",
       "      <td>0</td>\n",
       "      <td>0</td>\n",
       "      <td>0</td>\n",
       "    </tr>\n",
       "    <tr>\n",
       "      <th>3</th>\n",
       "      <td>13748</td>\n",
       "      <td>0</td>\n",
       "      <td>0</td>\n",
       "      <td>0</td>\n",
       "      <td>0</td>\n",
       "      <td>0</td>\n",
       "      <td>0</td>\n",
       "      <td>0</td>\n",
       "      <td>0</td>\n",
       "      <td>0</td>\n",
       "      <td>...</td>\n",
       "      <td>0</td>\n",
       "      <td>0</td>\n",
       "      <td>0</td>\n",
       "      <td>0</td>\n",
       "      <td>0</td>\n",
       "      <td>0</td>\n",
       "      <td>0</td>\n",
       "      <td>0</td>\n",
       "      <td>0</td>\n",
       "      <td>0</td>\n",
       "    </tr>\n",
       "    <tr>\n",
       "      <th>4</th>\n",
       "      <td>15100</td>\n",
       "      <td>0</td>\n",
       "      <td>0</td>\n",
       "      <td>0</td>\n",
       "      <td>0</td>\n",
       "      <td>0</td>\n",
       "      <td>0</td>\n",
       "      <td>0</td>\n",
       "      <td>0</td>\n",
       "      <td>0</td>\n",
       "      <td>...</td>\n",
       "      <td>0</td>\n",
       "      <td>0</td>\n",
       "      <td>0</td>\n",
       "      <td>0</td>\n",
       "      <td>0</td>\n",
       "      <td>0</td>\n",
       "      <td>0</td>\n",
       "      <td>0</td>\n",
       "      <td>0</td>\n",
       "      <td>0</td>\n",
       "    </tr>\n",
       "  </tbody>\n",
       "</table>\n",
       "<p>5 rows × 3685 columns</p>\n",
       "</div>"
      ],
      "text/plain": [
       "   Custommer Id  85123A  71053  84406B  84029G  84029E  22752  21730  22633  \\\n",
       "0         17850       1      1       1       1       1      1      1      1   \n",
       "1         13047       1      0       0       0       0      0      0      0   \n",
       "2         12583       0      0       0       0       0      0      0      0   \n",
       "3         13748       0      0       0       0       0      0      0      0   \n",
       "4         15100       0      0       0       0       0      0      0      0   \n",
       "\n",
       "   22632  ...  23562  23561  90214F  90214O  90214T  90214U  90214W  90214Z  \\\n",
       "0      1  ...      0      0       0       0       0       0       0       0   \n",
       "1      0  ...      0      0       0       0       0       0       0       0   \n",
       "2      0  ...      1      0       0       0       0       0       0       0   \n",
       "3      0  ...      0      0       0       0       0       0       0       0   \n",
       "4      0  ...      0      0       0       0       0       0       0       0   \n",
       "\n",
       "   90089  23843  \n",
       "0      0      0  \n",
       "1      0      0  \n",
       "2      0      0  \n",
       "3      0      0  \n",
       "4      0      0  \n",
       "\n",
       "[5 rows x 3685 columns]"
      ]
     },
     "execution_count": 23,
     "metadata": {},
     "output_type": "execute_result"
    }
   ],
   "source": [
    "newdf.head()"
   ]
  },
  {
   "cell_type": "code",
   "execution_count": 19,
   "id": "4b5469be",
   "metadata": {},
   "outputs": [
    {
     "data": {
      "text/plain": [
       "[3]"
      ]
     },
     "execution_count": 19,
     "metadata": {},
     "output_type": "execute_result"
    }
   ],
   "source": [
    "newdf.index[newdf['Custommer Id'] == 13748].tolist()"
   ]
  },
  {
   "cell_type": "code",
   "execution_count": 20,
   "id": "53e04f0f",
   "metadata": {},
   "outputs": [],
   "source": [
    "save=newdf"
   ]
  },
  {
   "cell_type": "code",
   "execution_count": 21,
   "id": "baa80c0f",
   "metadata": {},
   "outputs": [],
   "source": [
    "backup=newdf"
   ]
  },
  {
   "cell_type": "code",
   "execution_count": null,
   "id": "fee5fa02",
   "metadata": {},
   "outputs": [],
   "source": []
  },
  {
   "cell_type": "code",
   "execution_count": 22,
   "id": "f7f36f9d",
   "metadata": {},
   "outputs": [],
   "source": [
    "for l in range(len(df1)) :\n",
    "    i=df1.loc[l, \"CustomerID\"]\n",
    "    j=df1.loc[l, \"StockCode\"]\n",
    "    newdf.loc[newdf.index[newdf['Custommer Id'] == i].tolist(),j]=1"
   ]
  },
  {
   "cell_type": "code",
   "execution_count": 25,
   "id": "df57b5b4",
   "metadata": {},
   "outputs": [
    {
     "name": "stdout",
     "output_type": "stream",
     "text": [
      "<class 'pandas.core.frame.DataFrame'>\n",
      "RangeIndex: 4372 entries, 0 to 4371\n",
      "Columns: 3685 entries, Custommer Id to 23843\n",
      "dtypes: int64(3685)\n",
      "memory usage: 122.9 MB\n"
     ]
    }
   ],
   "source": [
    "newdf.info()"
   ]
  },
  {
   "cell_type": "code",
   "execution_count": 27,
   "id": "4e5262fe",
   "metadata": {},
   "outputs": [],
   "source": [
    "newdf.to_csv('data_split.csv',index=False)"
   ]
  },
  {
   "cell_type": "code",
   "execution_count": 48,
   "id": "a2e3bb33",
   "metadata": {},
   "outputs": [],
   "source": [
    "prod=pd.read_csv('Retail Product Recommender.csv')"
   ]
  },
  {
   "cell_type": "code",
   "execution_count": 49,
   "id": "b19fa6e8",
   "metadata": {},
   "outputs": [],
   "source": [
    "prod=prod[['StockCode','Description']]"
   ]
  },
  {
   "cell_type": "code",
   "execution_count": 56,
   "id": "d144b630",
   "metadata": {},
   "outputs": [
    {
     "data": {
      "text/html": [
       "<div>\n",
       "<style scoped>\n",
       "    .dataframe tbody tr th:only-of-type {\n",
       "        vertical-align: middle;\n",
       "    }\n",
       "\n",
       "    .dataframe tbody tr th {\n",
       "        vertical-align: top;\n",
       "    }\n",
       "\n",
       "    .dataframe thead th {\n",
       "        text-align: right;\n",
       "    }\n",
       "</style>\n",
       "<table border=\"1\" class=\"dataframe\">\n",
       "  <thead>\n",
       "    <tr style=\"text-align: right;\">\n",
       "      <th></th>\n",
       "      <th>StockCode</th>\n",
       "      <th>Description</th>\n",
       "    </tr>\n",
       "  </thead>\n",
       "  <tbody>\n",
       "    <tr>\n",
       "      <th>3679</th>\n",
       "      <td>90214U</td>\n",
       "      <td>LETTER \"U\" BLING KEY RING</td>\n",
       "    </tr>\n",
       "    <tr>\n",
       "      <th>3680</th>\n",
       "      <td>90214W</td>\n",
       "      <td>LETTER \"W\" BLING KEY RING</td>\n",
       "    </tr>\n",
       "    <tr>\n",
       "      <th>3681</th>\n",
       "      <td>90214Z</td>\n",
       "      <td>LETTER \"Z\" BLING KEY RING</td>\n",
       "    </tr>\n",
       "    <tr>\n",
       "      <th>3682</th>\n",
       "      <td>90089</td>\n",
       "      <td>PINK CRYSTAL SKULL PHONE CHARM</td>\n",
       "    </tr>\n",
       "    <tr>\n",
       "      <th>3683</th>\n",
       "      <td>23843</td>\n",
       "      <td>PAPER CRAFT , LITTLE BIRDIE</td>\n",
       "    </tr>\n",
       "  </tbody>\n",
       "</table>\n",
       "</div>"
      ],
      "text/plain": [
       "     StockCode                     Description\n",
       "3679    90214U       LETTER \"U\" BLING KEY RING\n",
       "3680    90214W       LETTER \"W\" BLING KEY RING\n",
       "3681    90214Z       LETTER \"Z\" BLING KEY RING\n",
       "3682     90089  PINK CRYSTAL SKULL PHONE CHARM\n",
       "3683     23843     PAPER CRAFT , LITTLE BIRDIE"
      ]
     },
     "execution_count": 56,
     "metadata": {},
     "output_type": "execute_result"
    }
   ],
   "source": [
    "prod.tail()"
   ]
  },
  {
   "cell_type": "code",
   "execution_count": 57,
   "id": "cb98f0ba",
   "metadata": {},
   "outputs": [],
   "source": [
    "prod.to_csv('products.csv',index=False)"
   ]
  },
  {
   "cell_type": "code",
   "execution_count": 28,
   "id": "25106c72",
   "metadata": {},
   "outputs": [],
   "source": [
    "import pandas as pd\n",
    "import numpy as np\n",
    "from scipy.sparse import csr_matrix\n",
    "from sklearn.neighbors import NearestNeighbors\n",
    "import matplotlib.pyplot as plt\n",
    "import seaborn as sns"
   ]
  },
  {
   "cell_type": "code",
   "execution_count": 69,
   "id": "13d5a566",
   "metadata": {},
   "outputs": [],
   "source": [
    "products = pd.read_csv(\"products.csv\")\n",
    "purchase = pd.read_csv(\"Purchase_His.csv\")"
   ]
  },
  {
   "cell_type": "code",
   "execution_count": null,
   "id": "8e116c47",
   "metadata": {},
   "outputs": [],
   "source": []
  }
 ],
 "metadata": {
  "kernelspec": {
   "display_name": "Python 3",
   "language": "python",
   "name": "python3"
  },
  "language_info": {
   "codemirror_mode": {
    "name": "ipython",
    "version": 3
   },
   "file_extension": ".py",
   "mimetype": "text/x-python",
   "name": "python",
   "nbconvert_exporter": "python",
   "pygments_lexer": "ipython3",
   "version": "3.8.8"
  }
 },
 "nbformat": 4,
 "nbformat_minor": 5
}
